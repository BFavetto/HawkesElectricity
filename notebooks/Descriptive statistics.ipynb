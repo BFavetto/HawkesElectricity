{
 "cells": [
  {
   "cell_type": "code",
   "execution_count": 1,
   "metadata": {},
   "outputs": [],
   "source": [
    "import numpy as np\n",
    "import pandas as pd\n",
    "import matplotlib.pyplot as plt"
   ]
  },
  {
   "cell_type": "code",
   "execution_count": 2,
   "metadata": {},
   "outputs": [],
   "source": [
    "df = pd.read_csv(filepath_or_buffer=\"timestamp_from_id_events_2015_03_31_22_00_00.csv\", parse_dates=['timestamp'])"
   ]
  },
  {
   "cell_type": "code",
   "execution_count": 3,
   "metadata": {},
   "outputs": [],
   "source": [
    "df_ps = pd.read_csv(filepath_or_buffer=\"delivery_start_from_id_prod_specs_2015_03_31_22_00_00.csv\", parse_dates=['trading_start'])"
   ]
  },
  {
   "cell_type": "code",
   "execution_count": null,
   "metadata": {},
   "outputs": [],
   "source": [
    "df"
   ]
  },
  {
   "cell_type": "code",
   "execution_count": null,
   "metadata": {},
   "outputs": [],
   "source": [
    "df_ps"
   ]
  },
  {
   "cell_type": "code",
   "execution_count": null,
   "metadata": {},
   "outputs": [],
   "source": []
  },
  {
   "cell_type": "code",
   "execution_count": null,
   "metadata": {},
   "outputs": [],
   "source": []
  },
  {
   "cell_type": "code",
   "execution_count": null,
   "metadata": {},
   "outputs": [],
   "source": [
    "type(df['timestamp'])"
   ]
  },
  {
   "cell_type": "code",
   "execution_count": null,
   "metadata": {},
   "outputs": [],
   "source": [
    "df['timestamp'][0]"
   ]
  },
  {
   "cell_type": "code",
   "execution_count": null,
   "metadata": {},
   "outputs": [],
   "source": [
    "np.float64(df['timestamp'].values)"
   ]
  },
  {
   "cell_type": "code",
   "execution_count": 4,
   "metadata": {},
   "outputs": [
    {
     "ename": "ModuleNotFoundError",
     "evalue": "No module named 'tick'",
     "output_type": "error",
     "traceback": [
      "\u001b[1;31m---------------------------------------------------------------------------\u001b[0m",
      "\u001b[1;31mModuleNotFoundError\u001b[0m                       Traceback (most recent call last)",
      "\u001b[1;32m<ipython-input-4-39ff4461529b>\u001b[0m in \u001b[0;36m<module>\u001b[1;34m()\u001b[0m\n\u001b[1;32m----> 1\u001b[1;33m \u001b[1;32mfrom\u001b[0m \u001b[0mtick\u001b[0m\u001b[1;33m.\u001b[0m\u001b[0mbase\u001b[0m \u001b[1;32mimport\u001b[0m \u001b[0mTimeFunction\u001b[0m\u001b[1;33m\u001b[0m\u001b[0m\n\u001b[0m\u001b[0;32m      2\u001b[0m \u001b[1;32mfrom\u001b[0m \u001b[0mtick\u001b[0m\u001b[1;33m.\u001b[0m\u001b[0mplot\u001b[0m \u001b[1;32mimport\u001b[0m \u001b[0mplot_point_process\u001b[0m\u001b[1;33m,\u001b[0m \u001b[0mstems\u001b[0m\u001b[1;33m\u001b[0m\u001b[0m\n",
      "\u001b[1;31mModuleNotFoundError\u001b[0m: No module named 'tick'"
     ]
    }
   ],
   "source": [
    "from tick.base import TimeFunction\n",
    "from tick.plot import plot_point_process, stems"
   ]
  },
  {
   "cell_type": "code",
   "execution_count": null,
   "metadata": {},
   "outputs": [],
   "source": [
    "df_ps['trading_start'].values"
   ]
  },
  {
   "cell_type": "code",
   "execution_count": 5,
   "metadata": {},
   "outputs": [
    {
     "data": {
      "text/plain": [
       "1.4278068e+18"
      ]
     },
     "execution_count": 5,
     "metadata": {},
     "output_type": "execute_result"
    }
   ],
   "source": [
    "np.float64(df_ps['trading_start'].values)"
   ]
  },
  {
   "cell_type": "markdown",
   "metadata": {},
   "source": [
    "Tick dates (starting at the opening market date, in hours)"
   ]
  },
  {
   "cell_type": "code",
   "execution_count": 7,
   "metadata": {},
   "outputs": [],
   "source": [
    "time_vec =(np.float64(df['timestamp'].values - df_ps['trading_start'].values))/(1e9*3600*8.25)"
   ]
  },
  {
   "cell_type": "code",
   "execution_count": 8,
   "metadata": {
    "scrolled": true
   },
   "outputs": [
    {
     "data": {
      "text/plain": [
       "array([0.02565364, 0.02566441, 0.02733848, 0.02778677, 0.02813805,\n",
       "       0.27321673, 0.43988865, 0.44131471, 0.44370539, 0.44620111,\n",
       "       0.47267879, 0.47549899, 0.48275848, 0.48924535, 0.59038441,\n",
       "       0.6160898 , 0.65693276, 0.6587633 , 0.78167778, 0.78514007,\n",
       "       0.78547215, 0.78557128, 0.78563121, 0.80400337, 0.80413189,\n",
       "       0.81137946, 0.81146094, 0.85103121, 0.86005926, 0.86872165,\n",
       "       0.87320495, 0.88106374, 0.90272896, 0.92120067, 0.922433  ,\n",
       "       0.92353007, 0.92476205, 0.92513963, 0.92596017, 0.92684175,\n",
       "       0.93012704, 0.9391266 , 0.94047407, 0.9422531 , 0.94225377,\n",
       "       0.94225566, 0.94338192, 0.94347441, 0.94388956, 0.95162761,\n",
       "       0.95487249, 0.95544906, 0.95641236, 0.95952178, 0.96946879,\n",
       "       0.96948003, 0.97292886, 0.97527013, 0.98131135, 0.98203636,\n",
       "       0.99081505, 0.99789842, 0.99801606, 0.99813391, 0.99867609,\n",
       "       0.99886296, 0.9990164 , 0.99914545, 0.99934343, 0.99954367,\n",
       "       0.99968643, 0.99972727, 0.99989495, 0.99989721, 0.99999697])"
      ]
     },
     "execution_count": 8,
     "metadata": {},
     "output_type": "execute_result"
    }
   ],
   "source": [
    "time_vec"
   ]
  },
  {
   "cell_type": "markdown",
   "metadata": {},
   "source": [
    "One observation of the process $N(t)$"
   ]
  },
  {
   "cell_type": "code",
   "execution_count": 9,
   "metadata": {
    "scrolled": true
   },
   "outputs": [
    {
     "data": {
      "image/png": "[encoded data removed]",
      "text/plain": [
       "<Figure size 432x288 with 1 Axes>"
      ]
     },
     "metadata": {},
     "output_type": "display_data"
    }
   ],
   "source": [
    "plt.stem(time_vec, np.ones(len(time_vec)))\n",
    "plt.title('Tick dates (starting 2015-03-31 13:00:00)')\n",
    "plt.show()"
   ]
  },
  {
   "cell_type": "code",
   "execution_count": null,
   "metadata": {},
   "outputs": [],
   "source": []
  },
  {
   "cell_type": "markdown",
   "metadata": {},
   "source": [
    "Empirical evidence : a Poisson process cannot model this data"
   ]
  },
  {
   "cell_type": "code",
   "execution_count": 10,
   "metadata": {},
   "outputs": [],
   "source": [
    "interarrival = time_vec[1:] - time_vec[:-1]"
   ]
  },
  {
   "cell_type": "code",
   "execution_count": 11,
   "metadata": {},
   "outputs": [
    {
     "data": {
      "text/plain": [
       "array([1.07744108e-05, 1.67407407e-03, 4.48282828e-04, 3.51279461e-04,\n",
       "       2.45078687e-01, 1.66671919e-01, 1.42606061e-03, 2.39067340e-03,\n",
       "       2.49572391e-03, 2.64776768e-02, 2.82020202e-03, 7.25949495e-03,\n",
       "       6.48686869e-03, 1.01139057e-01, 2.57053872e-02, 4.08429630e-02,\n",
       "       1.83053872e-03, 1.22914478e-01, 3.46228956e-03, 3.32087542e-04,\n",
       "       9.91245791e-05, 5.99326599e-05, 1.83721549e-02, 1.28518519e-04,\n",
       "       7.24757576e-03, 8.14814815e-05, 3.95702694e-02, 9.02804714e-03,\n",
       "       8.66239057e-03, 4.48329966e-03, 7.85878788e-03, 2.16652189e-02,\n",
       "       1.84717172e-02, 1.23232323e-03, 1.09707071e-03, 1.23198653e-03,\n",
       "       3.77575758e-04, 8.20538721e-04, 8.81582492e-04, 3.28528620e-03,\n",
       "       8.99956229e-03, 1.34747475e-03, 1.77902357e-03, 6.73400673e-07,\n",
       "       1.88552189e-06, 1.12626263e-03, 9.24915825e-05, 4.15151515e-04,\n",
       "       7.73804714e-03, 3.24488215e-03, 5.76565657e-04, 9.63299663e-04,\n",
       "       3.10942761e-03, 9.94700337e-03, 1.12457912e-05, 3.44882155e-03,\n",
       "       2.34127946e-03, 6.04121212e-03, 7.25016835e-04, 8.77868687e-03,\n",
       "       7.08336700e-03, 1.17643098e-04, 1.17845118e-04, 5.42188552e-04,\n",
       "       1.86868687e-04, 1.53434343e-04, 1.29057239e-04, 1.97979798e-04,\n",
       "       2.00235690e-04, 1.42760943e-04, 4.08417508e-05, 1.67676768e-04,\n",
       "       2.25589226e-06, 9.97643098e-05])"
      ]
     },
     "execution_count": 11,
     "metadata": {},
     "output_type": "execute_result"
    }
   ],
   "source": [
    "interarrival"
   ]
  },
  {
   "cell_type": "code",
   "execution_count": 12,
   "metadata": {},
   "outputs": [],
   "source": [
    "import statsmodels.api as sm\n",
    "import scipy.stats as stats"
   ]
  },
  {
   "cell_type": "code",
   "execution_count": 13,
   "metadata": {},
   "outputs": [
    {
     "data": {
      "image/png": "[encoded data removed]",
      "text/plain": [
       "<Figure size 432x288 with 1 Axes>"
      ]
     },
     "metadata": {},
     "output_type": "display_data"
    }
   ],
   "source": [
    "fig = sm.qqplot(interarrival,stats.expon,fit=True, line='45')\n",
    "plt.show()"
   ]
  },
  {
   "cell_type": "code",
   "execution_count": 14,
   "metadata": {},
   "outputs": [],
   "source": [
    "filename_a =\"timestamp_\"\n",
    "filename_c =\".csv\"\n",
    "filename_ps_a =\"delivery_start_\""
   ]
  },
  {
   "cell_type": "code",
   "execution_count": 15,
   "metadata": {},
   "outputs": [],
   "source": [
    "dates = pd.read_csv(filepath_or_buffer=\"dates_avril_2015.csv\",parse_dates=[\"date\"])"
   ]
  },
  {
   "cell_type": "code",
   "execution_count": 16,
   "metadata": {},
   "outputs": [],
   "source": [
    "N = len(dates)"
   ]
  },
  {
   "cell_type": "code",
   "execution_count": null,
   "metadata": {},
   "outputs": [],
   "source": []
  },
  {
   "cell_type": "code",
   "execution_count": 17,
   "metadata": {},
   "outputs": [
    {
     "data": {
      "image/png": "[encoded data removed]",
      "text/plain": [
       "<Figure size 432x288 with 1 Axes>"
      ]
     },
     "metadata": {},
     "output_type": "display_data"
    }
   ],
   "source": [
    "timestamps_N = np.array([])\n",
    "for i in range(N):\n",
    "    s = filename_a + str(i) + filename_c\n",
    "    s_ps = filename_ps_a + str(i) + filename_c\n",
    "    df = pd.read_csv(filepath_or_buffer=s, parse_dates=['timestamp'])\n",
    "    df_ps = pd.read_csv(filepath_or_buffer=s_ps, parse_dates=['trading_start'])\n",
    "    time_vec =(np.float64(df['timestamp'].values - df_ps['trading_start'].values))/(1e9*3600*8.25)\n",
    "    plt.stem(time_vec, np.ones(len(time_vec)))\n",
    "    timestamps_N =np.concatenate((timestamps_N, time_vec))\n",
    "timestamps_N.sort()"
   ]
  },
  {
   "cell_type": "code",
   "execution_count": null,
   "metadata": {},
   "outputs": [],
   "source": [
    "timestamps_N"
   ]
  },
  {
   "cell_type": "code",
   "execution_count": 18,
   "metadata": {},
   "outputs": [
    {
     "data": {
      "text/plain": [
       "1173"
      ]
     },
     "execution_count": 18,
     "metadata": {},
     "output_type": "execute_result"
    }
   ],
   "source": [
    "len(timestamps_N)"
   ]
  },
  {
   "cell_type": "code",
   "execution_count": null,
   "metadata": {
    "scrolled": true
   },
   "outputs": [],
   "source": [
    "fig, ax = plt.subplots(1, 1, figsize=(10, 4))\n",
    "ax.set_xlim(0, 1)\n",
    "plt.stem(timestamps_N, np.ones(len(timestamps_N)))\n",
    "plt.title('Tick dates')\n",
    "plt.show()"
   ]
  },
  {
   "cell_type": "code",
   "execution_count": 19,
   "metadata": {},
   "outputs": [
    {
     "data": {
      "image/png": "[encoded data removed]",
      "text/plain": [
       "<Figure size 432x288 with 1 Axes>"
      ]
     },
     "metadata": {},
     "output_type": "display_data"
    }
   ],
   "source": [
    "plt.hist(timestamps_N,bins=16,color=\"red\")\n",
    "plt.title(\"Histogram of the dates\")\n",
    "plt.show()"
   ]
  },
  {
   "cell_type": "code",
   "execution_count": null,
   "metadata": {},
   "outputs": [],
   "source": []
  },
  {
   "cell_type": "markdown",
   "metadata": {},
   "source": [
    "Empirical covariance of distinct time intervals"
   ]
  },
  {
   "cell_type": "code",
   "execution_count": 20,
   "metadata": {},
   "outputs": [],
   "source": [
    "df_avril =pd.read_csv(filepath_or_buffer=\"dates_avril_2015.csv\", parse_dates=['date'])\n",
    "liste_date = df_avril['date'].tolist()\n",
    "n = len(liste_date)\n",
    "filename_a =\"timestamp_\"\n",
    "filename_c =\".csv\"\n",
    "filename_ps_a =\"delivery_start_\"\n",
    "ticks_avril_2015 = []\n",
    "for i in range(n):\n",
    "    s = filename_a + str(i) + filename_c\n",
    "    s_ps = filename_ps_a + str(i) + filename_c    \n",
    "    df_i = pd.read_csv(filepath_or_buffer=s, parse_dates=['timestamp'])\n",
    "    df_ps_i = pd.read_csv(filepath_or_buffer=s_ps, parse_dates=['trading_start']) \n",
    "    ticks_avril_2015.append((np.float64(df_i['timestamp'].values - df_ps_i['trading_start'].values))/(1e9*3600*8.25))"
   ]
  },
  {
   "cell_type": "code",
   "execution_count": 33,
   "metadata": {},
   "outputs": [
    {
     "data": {
      "text/plain": [
       "[array([0.02565364, 0.02566441, 0.02733848, 0.02778677, 0.02813805,\n",
       "        0.27321673, 0.43988865, 0.44131471, 0.44370539, 0.44620111,\n",
       "        0.47267879, 0.47549899, 0.48275848, 0.48924535, 0.59038441,\n",
       "        0.6160898 , 0.65693276, 0.6587633 , 0.78167778, 0.78514007,\n",
       "        0.78547215, 0.78557128, 0.78563121, 0.80400337, 0.80413189,\n",
       "        0.81137946, 0.81146094, 0.85103121, 0.86005926, 0.86872165,\n",
       "        0.87320495, 0.88106374, 0.90272896, 0.92120067, 0.922433  ,\n",
       "        0.92353007, 0.92476205, 0.92513963, 0.92596017, 0.92684175,\n",
       "        0.93012704, 0.9391266 , 0.94047407, 0.9422531 , 0.94225377,\n",
       "        0.94225566, 0.94338192, 0.94347441, 0.94388956, 0.95162761,\n",
       "        0.95487249, 0.95544906, 0.95641236, 0.95952178, 0.96946879,\n",
       "        0.96948003, 0.97292886, 0.97527013, 0.98131135, 0.98203636,\n",
       "        0.99081505, 0.99789842, 0.99801606, 0.99813391, 0.99867609,\n",
       "        0.99886296, 0.9990164 , 0.99914545, 0.99934343, 0.99954367,\n",
       "        0.99968643, 0.99972727, 0.99989495, 0.99989721, 0.99999697]),\n",
       " array([0.37241929, 0.4940797 , 0.59691505, 0.59695185, 0.59698879,\n",
       "        0.59702424, 0.59706152, 0.5970962 , 0.59718081, 0.6203533 ,\n",
       "        0.62040919, 0.62046051, 0.62066845, 0.6677762 , 0.68665162,\n",
       "        0.68845377, 0.68849418, 0.68876879, 0.6894937 , 0.70028811,\n",
       "        0.70128047, 0.70835613, 0.72331943, 0.72858461, 0.7293403 ,\n",
       "        0.74091034, 0.74111404, 0.77289586, 0.77796455, 0.78835017,\n",
       "        0.79014253, 0.79534007, 0.80850471, 0.81030697, 0.82903727,\n",
       "        0.83408562, 0.83719067, 0.84869   , 0.84877788, 0.84886354,\n",
       "        0.84915801, 0.84925545, 0.85087869, 0.85216037, 0.86415714,\n",
       "        0.87052919, 0.87609653, 0.87754623, 0.88160684, 0.89076744,\n",
       "        0.8932899 , 0.8935102 , 0.89639418, 0.89966407, 0.89987721,\n",
       "        0.89996475, 0.90620596, 0.91093896, 0.91381539, 0.91384926,\n",
       "        0.91525354, 0.94224098, 0.94224266, 0.94224333, 0.9441036 ,\n",
       "        0.94480785, 0.95136084, 0.95521673, 0.95640616, 0.95781   ,\n",
       "        0.95847071, 0.97360865, 0.9740366 , 0.97428519, 0.97831471,\n",
       "        0.98097788, 0.98097855, 0.98097936, 0.98373795, 0.98384286,\n",
       "        0.98636364, 0.99375983, 0.99394478, 0.99533209, 0.99946354,\n",
       "        0.99955276, 0.9996265 , 0.99977407, 0.99981155, 0.99991505,\n",
       "        0.99994838]),\n",
       " array([0.39035051, 0.43174737, 0.53715219, 0.5381836 , 0.69578899,\n",
       "        0.69591616, 0.70573603, 0.70946768, 0.71611997, 0.73593828,\n",
       "        0.76979236, 0.79092771, 0.8056366 , 0.86967418, 0.88546778,\n",
       "        0.8906467 , 0.94224545, 0.9422467 , 0.94224747, 0.94642098,\n",
       "        0.94679081, 0.94727855, 0.95581145, 0.95581337, 0.95581505,\n",
       "        0.95701875, 0.9570202 , 0.97521539, 0.9806532 , 0.9989201 ]),\n",
       " array([0.54282357, 0.56798384, 0.5843165 , 0.67948293, 0.69911684,\n",
       "        0.72845498, 0.73653141, 0.74420933, 0.80742313, 0.8320733 ,\n",
       "        0.88801155, 0.89763848, 0.90551077, 0.90676542, 0.90782582,\n",
       "        0.91527037, 0.91719933, 0.91734007, 0.91762525, 0.92705397,\n",
       "        0.92843848, 0.93192313, 0.93272795, 0.93553579, 0.93729943,\n",
       "        0.93735556, 0.94224714, 0.94224906, 0.95235209, 0.95792929,\n",
       "        0.96486455, 0.97163747, 0.9725368 , 0.97267195, 0.98133882,\n",
       "        0.98134064, 0.98134175, 0.98674872, 0.98709316, 0.98754714,\n",
       "        0.98766936, 0.98800616, 0.99498552, 0.99811727, 0.99838205]),\n",
       " array([0.25674017, 0.4060496 , 0.41323478, 0.57221178, 0.60101896,\n",
       "        0.62877599, 0.62881323, 0.64256902, 0.65655411, 0.66001987,\n",
       "        0.66945397, 0.70115613, 0.7152065 , 0.82277721, 0.88703805,\n",
       "        0.89168855, 0.89535343, 0.89580549, 0.91710606, 0.92482684,\n",
       "        0.93241707, 0.94065498, 0.94275286, 0.94817364, 0.94918923,\n",
       "        0.95097956, 0.95347519, 0.96823232, 0.97000067, 0.97142559,\n",
       "        0.97198822, 0.97305118, 0.97342189, 0.97949909, 0.98094007,\n",
       "        0.98131492, 0.98131616, 0.98376667, 0.98386286, 0.9959962 ]),\n",
       " array([0.41598643, 0.68241303, 0.70276138, 0.70468081, 0.70678037,\n",
       "        0.70702054, 0.75167768, 0.75680145, 0.77572357, 0.81285623,\n",
       "        0.86680428, 0.88984074, 0.89011438, 0.89613175, 0.90136286,\n",
       "        0.90159687, 0.90194791, 0.9022834 , 0.90599101, 0.92210327,\n",
       "        0.93274983, 0.93916296, 0.94453411, 0.95885397, 0.97254131,\n",
       "        0.99806407, 0.99997094]),\n",
       " array([0.41859428, 0.50890684, 0.53796003, 0.62734872, 0.63344522,\n",
       "        0.63382582, 0.64781347, 0.71529394, 0.86561785, 0.8824504 ,\n",
       "        0.88543906, 0.89456071, 0.90759283, 0.9117533 , 0.91927374,\n",
       "        0.94285229, 0.94467431, 0.96685185, 0.96685377, 0.97023377,\n",
       "        0.9703468 , 0.97076455, 0.97233828, 0.9813266 , 0.99788384]),\n",
       " array([0.67919519, 0.73741279, 0.86321963, 0.90893323, 0.90938495,\n",
       "        0.92326195, 0.93052246, 0.93415983, 0.93417754, 0.93428822,\n",
       "        0.94202199, 0.94219471, 0.94245758, 0.94279438, 0.94302434,\n",
       "        0.94493838, 0.94851357, 0.95346724, 0.95346926, 0.95969832,\n",
       "        0.96203795, 0.96407195, 0.96563458, 0.97296936, 0.97377576,\n",
       "        0.9826138 , 0.99618865, 0.99720764, 0.99791582, 0.99965455,\n",
       "        0.99997397]),\n",
       " array([0.38295152, 0.72746104, 0.90334434, 0.92677801, 0.92773411,\n",
       "        0.93308721, 0.93738677, 0.9383164 , 0.9416366 , 0.95559653,\n",
       "        0.95559976, 0.97375623, 0.98127869, 0.98170461, 0.98445791,\n",
       "        0.98551549, 0.98879249, 0.99180202, 0.99994545]),\n",
       " array([0.19784354, 0.69270293, 0.85434084, 0.86941626, 0.8708669 ,\n",
       "        0.8807696 , 0.88106609, 0.88126825, 0.88152468, 0.93988832,\n",
       "        0.94072569, 0.94520842, 0.95383064, 0.95887519, 0.9598863 ,\n",
       "        0.97205051, 0.99468024, 0.99495017, 0.99603569, 0.99690549]),\n",
       " array([0.53002535, 0.65052424, 0.65890707, 0.66224522, 0.66236835,\n",
       "        0.73977441, 0.75798182, 0.76113939, 0.79175512, 0.80342401,\n",
       "        0.80365488, 0.80393367, 0.80405869, 0.86240616, 0.87420741,\n",
       "        0.88208778, 0.89065613, 0.89142357, 0.89156811, 0.89190135,\n",
       "        0.90705152, 0.93291145, 0.93890057, 0.95526811, 0.96334286,\n",
       "        0.97406387]),\n",
       " array([0.29274805, 0.33171673, 0.3640432 , 0.37561919, 0.39458663,\n",
       "        0.40419202, 0.42868542, 0.43000158, 0.43290057, 0.47537451,\n",
       "        0.4756734 , 0.71409889, 0.71473108, 0.73281997, 0.78050697,\n",
       "        0.79535431, 0.8105201 , 0.81299303, 0.81343872, 0.81399673,\n",
       "        0.8332432 , 0.85993848, 0.88518956, 0.88525633, 0.89368923,\n",
       "        0.89381694, 0.89394377, 0.89408923, 0.89417485, 0.89727869,\n",
       "        0.89749519, 0.89944333, 0.89954704, 0.90019135, 0.91778441,\n",
       "        0.92430448, 0.92452111, 0.92467249, 0.93118451, 0.933077  ,\n",
       "        0.93656354, 0.93941606, 0.94158418, 0.94167162, 0.94177273,\n",
       "        0.94189889, 0.94202896, 0.94396946, 0.94804108, 0.96128495,\n",
       "        0.96759855, 0.97368037, 0.98169428, 0.98169572, 0.98169707,\n",
       "        0.98552636, 0.98563939, 0.99625815]),\n",
       " array([0.22760529, 0.22761862, 0.49030293, 0.55137229, 0.55746441,\n",
       "        0.55759236, 0.55944488, 0.57942953, 0.59750933, 0.59757855,\n",
       "        0.59763401, 0.59768653, 0.65395714, 0.65709293, 0.6572265 ,\n",
       "        0.6587798 , 0.70752266, 0.76032525, 0.77017508, 0.86316758,\n",
       "        0.86330582, 0.87891549, 0.87933411, 0.87953626, 0.88854007,\n",
       "        0.89645027, 0.89936633, 0.90134007, 0.90148562, 0.90183882,\n",
       "        0.90191828, 0.92374108, 0.93308215, 0.94796633, 0.94830582,\n",
       "        0.95747283, 0.99138384, 0.99140471]),\n",
       " array([0.17396926, 0.2081432 , 0.38630865, 0.4063771 , 0.52966677,\n",
       "        0.52978677, 0.52984051, 0.52989202, 0.52994434, 0.5299962 ,\n",
       "        0.53005094, 0.5368799 , 0.53724175, 0.73798845, 0.86684747,\n",
       "        0.88175657, 0.89682805, 0.90826138, 0.91705993, 0.91810933,\n",
       "        0.92531256, 0.93305926, 0.93996286, 0.94522313, 0.94693121,\n",
       "        0.95353108, 0.96562751, 0.9662164 , 0.96627485, 0.96633838,\n",
       "        0.96642886, 0.96747465, 0.96780731, 0.99876946, 0.99989182]),\n",
       " array([0.08784333, 0.38420852, 0.3923669 , 0.64692805, 0.6870798 ,\n",
       "        0.71270024, 0.73058428, 0.75106724, 0.78923276, 0.80008529,\n",
       "        0.80197599, 0.8083935 , 0.80848889, 0.80884455, 0.80939764,\n",
       "        0.83804502, 0.91031438, 0.9330771 , 0.94259428, 0.94259519,\n",
       "        0.9425962 , 0.94473737, 0.95588542, 0.95641424, 0.96088855,\n",
       "        0.98508562]),\n",
       " array([0.14184535, 0.37974333, 0.4812166 , 0.73342525, 0.785467  ,\n",
       "        0.80290303, 0.82236633, 0.84197128, 0.85454266, 0.85476118,\n",
       "        0.85481404, 0.86261943, 0.87720798, 0.8914797 , 0.92442852,\n",
       "        0.93034098, 0.94033189, 0.95282155, 0.95282313, 0.9538799 ,\n",
       "        0.9692432 , 0.96937485, 0.97005714, 0.9701698 , 0.97447734,\n",
       "        0.97748562, 0.99192761, 0.99239451, 0.99468663, 0.99533613,\n",
       "        0.99579865, 0.99665465, 0.99693222, 0.99837508, 0.99855007,\n",
       "        0.9987302 , 0.99897687, 0.99984478, 0.99984657, 0.99999168]),\n",
       " array([0.70230279, 0.73263074, 0.85011145, 0.87489562, 0.90028744,\n",
       "        0.91000505, 0.912523  , 0.93894098, 0.93956734, 0.94182953,\n",
       "        0.94320673, 0.9671101 , 0.9823504 , 0.98954939, 0.99594556]),\n",
       " array([0.67939832, 0.76011875, 0.76493391, 0.76523333, 0.78369495,\n",
       "        0.78375354, 0.78637586, 0.83372684, 0.85304488, 0.85309707,\n",
       "        0.85315118, 0.8571533 , 0.85722939, 0.87945791, 0.87952279,\n",
       "        0.8795898 , 0.87965108, 0.87974646, 0.91902492, 0.91915545,\n",
       "        0.9420129 , 0.94209933, 0.96118653, 0.97577273, 0.98132131,\n",
       "        0.981323  , 0.98189875, 0.999277  ]),\n",
       " array([0.47841   , 0.64957094, 0.67677431, 0.69292785, 0.71168677,\n",
       "        0.71462098, 0.74571559, 0.75163862, 0.75959552, 0.75990111,\n",
       "        0.7617467 , 0.76205532, 0.76466094, 0.76479047, 0.79673737,\n",
       "        0.85182111, 0.86017633, 0.9114367 , 0.91476162, 0.91495667,\n",
       "        0.93001438, 0.93308071, 0.93367879, 0.98199808, 0.98749283,\n",
       "        0.99164343]),\n",
       " array([0.54087172, 0.55714623, 0.80593232, 0.80767586, 0.82943165,\n",
       "        0.82968081, 0.82985061, 0.83087576, 0.83117418, 0.83124098,\n",
       "        0.83130327, 0.86837263, 0.87811246, 0.87818956, 0.88994825,\n",
       "        0.92424118, 0.92617667, 0.93311145, 0.94257263, 0.9565403 ,\n",
       "        0.95767889, 0.9636735 , 0.984157  , 0.98768586, 0.98925152,\n",
       "        0.98964848, 0.99175108, 0.99625747]),\n",
       " array([0.54120515, 0.59239842, 0.59295242, 0.77187485, 0.81025296,\n",
       "        0.81049586, 0.84377081, 0.85157889, 0.8633735 , 0.86370246,\n",
       "        0.90414916, 0.90602997, 0.90823468, 0.90850808, 0.91377081,\n",
       "        0.91382165, 0.91388687, 0.92437114, 0.92443593, 0.92450135,\n",
       "        0.92465478, 0.92472178, 0.93311997, 0.94605801, 0.95770953,\n",
       "        0.95859259, 0.95859519, 0.97364354, 0.97963007, 0.99182761,\n",
       "        0.99248731, 0.99366364, 0.99504387]),\n",
       " array([0.19801212, 0.85486397, 0.85488091, 0.85490818, 0.85496152,\n",
       "        0.85501236, 0.85503906, 0.85856421, 0.86286791, 0.86787677,\n",
       "        0.88030313, 0.89231582, 0.905443  , 0.90651549, 0.90889081,\n",
       "        0.9223834 , 0.92438596, 0.930023  , 0.93022424, 0.94425343,\n",
       "        0.95166825, 0.95327923, 0.95332582, 0.96176195, 0.96282189,\n",
       "        0.96300515, 0.96644636, 0.97150044, 0.97741054, 0.97750313,\n",
       "        0.98336286, 0.98464906, 0.98465152, 0.98593896, 0.9864697 ,\n",
       "        0.99104815, 0.99302593, 0.99967215]),\n",
       " array([0.80859865, 0.82068394, 0.8678733 , 0.893423  , 0.90034051,\n",
       "        0.9334137 , 0.9339331 , 0.93421953, 0.94816051, 0.94946946,\n",
       "        0.95093862, 0.95211515, 0.95287956, 0.95314545, 0.95329438,\n",
       "        0.9533899 , 0.95579114, 0.95637542, 0.9645036 , 0.96826589,\n",
       "        0.97382636, 0.97465007, 0.97486522, 0.97609337, 0.97631505,\n",
       "        0.97638731, 0.97737037, 0.9776367 , 0.98103603, 0.98128764,\n",
       "        0.9823798 , 0.98257576, 0.98265801, 0.98274805, 0.98285556,\n",
       "        0.99588327, 0.99593872, 0.99942222, 0.99962953, 0.9998331 ]),\n",
       " array([0.5951201 , 0.74815623, 0.87541414, 0.88681222, 0.89393343,\n",
       "        0.89636758, 0.9161302 , 0.92493492, 0.93375175, 0.94083199,\n",
       "        0.94087418, 0.94096118, 0.94456475, 0.95275242, 0.95329495,\n",
       "        0.95395734, 0.95471694, 0.95494973, 0.95502232, 0.96227451,\n",
       "        0.97354118, 0.97824556, 0.99065162, 0.99073973, 0.99086094,\n",
       "        0.99291785]),\n",
       " array([0.57964141, 0.74425599, 0.74629125, 0.74880448, 0.76124704,\n",
       "        0.77592582, 0.7962797 , 0.85010764, 0.85647485, 0.85780394,\n",
       "        0.8583331 , 0.86358609, 0.86848104, 0.87141707, 0.87179923,\n",
       "        0.87943343, 0.89697855, 0.90988562, 0.91108811, 0.91762222,\n",
       "        0.92029552, 0.92383444, 0.92573064, 0.9257633 , 0.92933064,\n",
       "        0.92995623, 0.94965983, 0.94975859, 0.95281582, 0.95323323,\n",
       "        0.97446993, 0.98234949, 0.98235017, 0.99687667, 0.99734455,\n",
       "        0.99996912]),\n",
       " array([0.72210966, 0.7379871 , 0.75589596, 0.76914232, 0.81716263,\n",
       "        0.8266671 , 0.82821101, 0.85251212, 0.87321785, 0.88052704,\n",
       "        0.8805835 , 0.88064872, 0.88078283, 0.88086475, 0.88099889,\n",
       "        0.88107609, 0.88601593, 0.90531795, 0.91097532, 0.91303559,\n",
       "        0.94322805, 0.94322872, 0.94322953, 0.95514805, 0.96029764,\n",
       "        0.9665671 , 0.96680404, 0.96924098, 0.97008306, 0.97023333,\n",
       "        0.97122458, 0.97136465, 0.97178273, 0.97288889, 0.97349236,\n",
       "        0.98197061, 0.98231515, 0.98990347, 0.99253209, 0.99370785,\n",
       "        0.99528731]),\n",
       " array([0.48881246, 0.5900403 , 0.59097902, 0.64353569, 0.66968744,\n",
       "        0.67166374, 0.7645735 , 0.7646403 , 0.76469114, 0.76496892,\n",
       "        0.77742424, 0.78255579, 0.78262044, 0.78269529, 0.7831597 ,\n",
       "        0.84447027, 0.84493222, 0.84537239, 0.84562886, 0.84578259,\n",
       "        0.84684118, 0.85070596, 0.85086061, 0.85112929, 0.85553088,\n",
       "        0.86539404, 0.87792323, 0.87804872, 0.89194522, 0.89447094,\n",
       "        0.89454468, 0.89469303, 0.91344522, 0.91385094, 0.92591741,\n",
       "        0.92795364, 0.92909158, 0.93378138, 0.93416835, 0.93629673,\n",
       "        0.9423063 , 0.94253054, 0.94324434, 0.94324512, 0.9433898 ,\n",
       "        0.94388865, 0.9461202 , 0.95980562, 0.96331424, 0.96447811,\n",
       "        0.96795027, 0.96907364, 0.97412818, 0.979767  , 0.98195431,\n",
       "        0.98237431, 0.98618475, 0.99177912, 0.99930438]),\n",
       " array([0.47546657, 0.70939024, 0.81345747, 0.83440562, 0.88723781,\n",
       "        0.91024455, 0.92878519, 0.92907869, 0.92999337, 0.92999788,\n",
       "        0.93031525, 0.930557  , 0.93277027, 0.93367162, 0.93376061,\n",
       "        0.93496421, 0.93497061, 0.93895916, 0.93900798, 0.94082727,\n",
       "        0.94353064, 0.94353155, 0.944223  , 0.94733694, 0.94769731,\n",
       "        0.94829707, 0.94829855, 0.94830034, 0.94851337, 0.94891852,\n",
       "        0.94976589, 0.95090091, 0.95090226, 0.95090428, 0.95090596,\n",
       "        0.95320044, 0.95320168, 0.95320562, 0.95353862, 0.95370751,\n",
       "        0.95445801, 0.95446657, 0.95446811, 0.95447061, 0.95478519,\n",
       "        0.95525421, 0.95525579, 0.95571269, 0.9562267 , 0.95885195,\n",
       "        0.97271189, 0.97411202, 0.97827879, 0.97828037, 0.97828249,\n",
       "        0.97966253, 0.98234478, 0.98234545, 0.98262626, 0.98694411,\n",
       "        0.98709832, 0.98798428, 0.98819067]),\n",
       " array([0.1215164 , 0.67096253, 0.7144366 , 0.74851842, 0.74874758,\n",
       "        0.74894535, 0.74918259, 0.79764242, 0.79800269, 0.79833391,\n",
       "        0.80201034, 0.8134797 , 0.84602525, 0.84614199, 0.84624017,\n",
       "        0.84884838, 0.89014939, 0.89232414, 0.91033189, 0.9108366 ,\n",
       "        0.92467037, 0.92467316, 0.92467498, 0.92538226, 0.92600549,\n",
       "        0.92700798, 0.93037835, 0.93038104, 0.93066219, 0.93290933,\n",
       "        0.93291337, 0.93291458, 0.93325108, 0.93375209, 0.93376542,\n",
       "        0.93376744, 0.93408731, 0.93627734, 0.93628293, 0.93628475,\n",
       "        0.93818966, 0.93819316, 0.93940987, 0.93941313, 0.94055949,\n",
       "        0.94056431, 0.94056556, 0.94056859, 0.94057263, 0.94064791,\n",
       "        0.94073828, 0.94116094, 0.94116441, 0.94662367, 0.94662525,\n",
       "        0.96022704, 0.96047754, 0.96107249, 0.96553828, 0.96561054,\n",
       "        0.96578024, 0.97058822, 0.9737165 , 0.97500741, 0.97546623,\n",
       "        0.97546835, 0.97547195, 0.97871481, 0.97882582, 0.97883815,\n",
       "        0.98064108, 0.98097306, 0.99254411, 0.99254569, 0.99813242]),\n",
       " array([0.22974387, 0.76408104, 0.8129569 , 0.84306138, 0.84455286,\n",
       "        0.86482838, 0.8740266 , 0.88281785, 0.88454589, 0.88493535,\n",
       "        0.89360394, 0.89580697, 0.89632256, 0.89650808, 0.89668226,\n",
       "        0.90912232, 0.91106118, 0.91112525, 0.91399047, 0.91410057,\n",
       "        0.92137316, 0.92569663, 0.93006936, 0.93377734, 0.93821593,\n",
       "        0.94355566, 0.94408798, 0.95668899, 0.95670303, 0.95679394,\n",
       "        0.97014791, 0.97032852, 0.99120337, 0.99937576, 0.99980697,\n",
       "        0.99980842, 0.99980966, 0.99981145, 0.99982434])]"
      ]
     },
     "execution_count": 33,
     "metadata": {},
     "output_type": "execute_result"
    }
   ],
   "source": [
    "ticks_avril_2015"
   ]
  },
  {
   "cell_type": "code",
   "execution_count": 54,
   "metadata": {},
   "outputs": [],
   "source": [
    "q=10\n",
    "disc=np.zeros((n,q+1))"
   ]
  },
  {
   "cell_type": "code",
   "execution_count": 55,
   "metadata": {},
   "outputs": [],
   "source": [
    "for i in range(n):\n",
    "    for j in range(q+1):\n",
    "        disc[i][j] = len(np.where( ticks_avril_2015[i][:] <=((j)/q))[0])"
   ]
  },
  {
   "cell_type": "code",
   "execution_count": null,
   "metadata": {},
   "outputs": [],
   "source": []
  },
  {
   "cell_type": "code",
   "execution_count": 60,
   "metadata": {},
   "outputs": [],
   "source": [
    "valuetab = disc[:,1:] - disc[:,:-1]"
   ]
  },
  {
   "cell_type": "code",
   "execution_count": 65,
   "metadata": {},
   "outputs": [
    {
     "data": {
      "text/plain": [
       "array([[ 8.55172414e-01, -3.44827586e-02,  1.24137931e-01,\n",
       "        -6.89655172e-03,  1.20000000e+00, -1.31034483e-01,\n",
       "         2.48275862e-01,  2.55172414e-01,  1.72413793e-01,\n",
       "         3.05517241e+00],\n",
       "       [-3.44827586e-02,  1.43678161e-01, -5.74712644e-03,\n",
       "         5.74712644e-03, -8.04597701e-02,  5.74712644e-02,\n",
       "        -2.12643678e-01, -2.41379310e-01, -4.02298851e-02,\n",
       "         8.39080460e-01],\n",
       "       [ 1.24137931e-01, -5.74712644e-03,  2.54022989e-01,\n",
       "         8.39080460e-02,  4.45977011e-01,  6.45977011e-01,\n",
       "         2.26436782e-01, -1.79310345e-01,  2.81609195e-01,\n",
       "        -1.77011494e-01],\n",
       "       [-6.89655172e-03,  5.74712644e-03,  8.39080460e-02,\n",
       "         7.22988506e-01,  6.36781609e-01,  6.43678161e-02,\n",
       "        -6.78160920e-02,  3.93103448e-01,  1.23563218e+00,\n",
       "        -6.91954023e-01],\n",
       "       [ 1.20000000e+00, -8.04597701e-02,  4.45977011e-01,\n",
       "         6.36781609e-01,  3.15402299e+00,  9.88505747e-02,\n",
       "         7.77011494e-01,  1.18620690e+00,  2.04597701e+00,\n",
       "         5.89425287e+00],\n",
       "       [-1.31034483e-01,  5.74712644e-02,  6.45977011e-01,\n",
       "         6.43678161e-02,  9.88505747e-02,  6.39540230e+00,\n",
       "         2.48735632e+00,  1.05517241e+00,  2.32183908e+00,\n",
       "        -2.83678161e+00],\n",
       "       [ 2.48275862e-01, -2.12643678e-01,  2.26436782e-01,\n",
       "        -6.78160920e-02,  7.77011494e-01,  2.48735632e+00,\n",
       "         5.55057471e+00,  4.22758621e+00,  4.45402299e+00,\n",
       "        -6.87356322e-01],\n",
       "       [ 2.55172414e-01, -2.41379310e-01, -1.79310345e-01,\n",
       "         3.93103448e-01,  1.18620690e+00,  1.05517241e+00,\n",
       "         4.22758621e+00,  1.16965517e+01,  8.48275862e+00,\n",
       "         3.37241379e+00],\n",
       "       [ 1.72413793e-01, -4.02298851e-02,  2.81609195e-01,\n",
       "         1.23563218e+00,  2.04597701e+00,  2.32183908e+00,\n",
       "         4.45402299e+00,  8.48275862e+00,  2.97988506e+01,\n",
       "         7.29885057e+00],\n",
       "       [ 3.05517241e+00,  8.39080460e-01, -1.77011494e-01,\n",
       "        -6.91954023e-01,  5.89425287e+00, -2.83678161e+00,\n",
       "        -6.87356322e-01,  3.37241379e+00,  7.29885057e+00,\n",
       "         1.71719540e+02]])"
      ]
     },
     "execution_count": 65,
     "metadata": {},
     "output_type": "execute_result"
    }
   ],
   "source": [
    "np.cov(valuetab.T)"
   ]
  },
  {
   "cell_type": "code",
   "execution_count": 68,
   "metadata": {},
   "outputs": [],
   "source": [
    "np.savetxt(\"mydata.csv\", np.cov(valuetab.T), delimiter=' & ', fmt='%2.2e', newline=' \\\\\\\\\\n')"
   ]
  },
  {
   "cell_type": "code",
   "execution_count": null,
   "metadata": {},
   "outputs": [],
   "source": []
  },
  {
   "cell_type": "code",
   "execution_count": null,
   "metadata": {},
   "outputs": [],
   "source": []
  },
  {
   "cell_type": "code",
   "execution_count": 61,
   "metadata": {},
   "outputs": [],
   "source": [
    "q = 30\n",
    "discretized = np.zeros(q)\n",
    "for i in range(q):\n",
    "    discretized[i] = len(np.where( timestamps_N <=((i+1)/q))[0])"
   ]
  },
  {
   "cell_type": "code",
   "execution_count": 62,
   "metadata": {
    "scrolled": true
   },
   "outputs": [
    {
     "data": {
      "text/plain": [
       "array([   5.,    5.,    6.,    7.,    8.,   11.,   15.,   16.,   18.,\n",
       "         19.,   20.,   29.,   39.,   43.,   55.,   64.,   77.,   99.,\n",
       "        108.,  127.,  148.,  179.,  221.,  256.,  305.,  376.,  491.,\n",
       "        645.,  906., 1173.])"
      ]
     },
     "execution_count": 62,
     "metadata": {},
     "output_type": "execute_result"
    }
   ],
   "source": [
    "discretized"
   ]
  },
  {
   "cell_type": "code",
   "execution_count": 32,
   "metadata": {},
   "outputs": [
    {
     "data": {
      "text/plain": [
       "array([  5.,   7.,  11.,  26.,  44.,  49., 108., 235., 682.])"
      ]
     },
     "execution_count": 32,
     "metadata": {},
     "output_type": "execute_result"
    }
   ],
   "source": [
    "discretized[1:] - discretized[:-1]"
   ]
  },
  {
   "cell_type": "code",
   "execution_count": 63,
   "metadata": {
    "scrolled": true
   },
   "outputs": [
    {
     "data": {
      "image/png": "[encoded data removed]",
      "text/plain": [
       "<Figure size 432x288 with 1 Axes>"
      ]
     },
     "metadata": {},
     "output_type": "display_data"
    }
   ],
   "source": [
    "plt.plot(np.linspace(0,1,q),discretized/N)\n",
    "plt.show()"
   ]
  },
  {
   "cell_type": "markdown",
   "metadata": {},
   "source": [
    "Plot of the estimator of $e(t) = m(t) + m \\star \\psi (t)$ for $t \\in [0,1]$"
   ]
  },
  {
   "cell_type": "code",
   "execution_count": null,
   "metadata": {},
   "outputs": [],
   "source": [
    "data_N = pd.DataFrame({\"ticks\":timestamps_N})"
   ]
  },
  {
   "cell_type": "code",
   "execution_count": null,
   "metadata": {},
   "outputs": [],
   "source": [
    "data_N.to_csv(\"ticks_0_1.csv\")"
   ]
  },
  {
   "cell_type": "code",
   "execution_count": null,
   "metadata": {},
   "outputs": [],
   "source": []
  }
 ],
 "metadata": {
  "kernelspec": {
   "display_name": "Python 3",
   "language": "python",
   "name": "python3"
  },
  "language_info": {
   "codemirror_mode": {
    "name": "ipython",
    "version": 3
   },
   "file_extension": ".py",
   "mimetype": "text/x-python",
   "name": "python",
   "nbconvert_exporter": "python",
   "pygments_lexer": "ipython3",
   "version": "3.7.1"
  }
 },
 "nbformat": 4,
 "nbformat_minor": 2
}
