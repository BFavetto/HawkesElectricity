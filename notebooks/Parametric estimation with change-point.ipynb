{
 "cells": [
  {
   "cell_type": "markdown",
   "metadata": {},
   "source": [
    "Use of paramhawkes library to compute the likelihood with a change-point"
   ]
  },
  {
   "cell_type": "code",
   "execution_count": 1,
   "metadata": {},
   "outputs": [],
   "source": [
    "import paramhawkes as ph\n",
    "import pandas as pd\n",
    "import numpy as np"
   ]
  },
  {
   "cell_type": "markdown",
   "metadata": {},
   "source": [
    "30 trading periods for the month of April 2015"
   ]
  },
  {
   "cell_type": "code",
   "execution_count": 2,
   "metadata": {},
   "outputs": [],
   "source": [
    "df_avril =pd.read_csv(filepath_or_buffer=\"dates_avril_2015.csv\", parse_dates=['date'])"
   ]
  },
  {
   "cell_type": "code",
   "execution_count": 3,
   "metadata": {},
   "outputs": [],
   "source": [
    "liste_date = df_avril['date'].tolist()\n",
    "n = len(liste_date)"
   ]
  },
  {
   "cell_type": "code",
   "execution_count": 4,
   "metadata": {},
   "outputs": [],
   "source": [
    "filename_a =\"timestamp_\"\n",
    "filename_c =\".csv\"\n",
    "filename_ps_a =\"delivery_start_\""
   ]
  },
  {
   "cell_type": "code",
   "execution_count": 5,
   "metadata": {},
   "outputs": [],
   "source": [
    "ticks_avril_2015 = []"
   ]
  },
  {
   "cell_type": "code",
   "execution_count": 6,
   "metadata": {},
   "outputs": [],
   "source": [
    "for i in range(n):\n",
    "    s = filename_a + str(i) + filename_c\n",
    "    s_ps = filename_ps_a + str(i) + filename_c    \n",
    "    df_i = pd.read_csv(filepath_or_buffer=s, parse_dates=['timestamp'])\n",
    "    df_ps_i = pd.read_csv(filepath_or_buffer=s_ps, parse_dates=['trading_start']) \n",
    "    ticks_avril_2015.append((np.float64(df_i['timestamp'].values - df_ps_i['trading_start'].values))/(1e9*3600*8.25))"
   ]
  },
  {
   "cell_type": "code",
   "execution_count": 7,
   "metadata": {
    "scrolled": true
   },
   "outputs": [
    {
     "data": {
      "text/plain": [
       "array([0.22974387, 0.76408104, 0.8129569 , 0.84306138, 0.84455286,\n",
       "       0.86482838, 0.8740266 , 0.88281785, 0.88454589, 0.88493535,\n",
       "       0.89360394, 0.89580697, 0.89632256, 0.89650808, 0.89668226,\n",
       "       0.90912232, 0.91106118, 0.91112525, 0.91399047, 0.91410057,\n",
       "       0.92137316, 0.92569663, 0.93006936, 0.93377734, 0.93821593,\n",
       "       0.94355566, 0.94408798, 0.95668899, 0.95670303, 0.95679394,\n",
       "       0.97014791, 0.97032852, 0.99120337, 0.99937576, 0.99980697,\n",
       "       0.99980842, 0.99980966, 0.99981145, 0.99982434])"
      ]
     },
     "execution_count": 7,
     "metadata": {},
     "output_type": "execute_result"
    }
   ],
   "source": [
    "ticks_avril_2015[29]"
   ]
  },
  {
   "cell_type": "markdown",
   "metadata": {},
   "source": [
    "The class HawkesProcess is initialized with a list of array (one array of date per day)"
   ]
  },
  {
   "cell_type": "code",
   "execution_count": 8,
   "metadata": {},
   "outputs": [],
   "source": [
    "test = ph.HawkesProcess(ticks_avril_2015)"
   ]
  },
  {
   "cell_type": "markdown",
   "metadata": {},
   "source": [
    "Default kernel shape is exponential (other possibility : power law)"
   ]
  },
  {
   "cell_type": "code",
   "execution_count": 9,
   "metadata": {},
   "outputs": [],
   "source": [
    "test.set_kernel_shape()"
   ]
  },
  {
   "cell_type": "markdown",
   "metadata": {},
   "source": [
    "Parameters to compute the log likelihood :\n",
    "- $\\mu_0$ : baseline value before $\\delta$\n",
    "- $\\mu_1$ : baseline value after $\\delta$\n",
    "- exponential kernel : $\\varphi (t) = \\beta_0 \\exp (- \\beta_1 t)$"
   ]
  },
  {
   "cell_type": "code",
   "execution_count": 10,
   "metadata": {},
   "outputs": [],
   "source": [
    "params=np.array([1 , 200 , 0.8 , 1])"
   ]
  },
  {
   "cell_type": "markdown",
   "metadata": {},
   "source": [
    "$\\delta$ : time when the change-point occurs.\n",
    "\n",
    "The loglikelihood methods computes the value of the opposite of the loglikelihood (due to minimization methods)"
   ]
  },
  {
   "cell_type": "code",
   "execution_count": 11,
   "metadata": {},
   "outputs": [
    {
     "data": {
      "text/plain": [
       "<paramhawkes.HawkesProcess at 0x200822fb588>"
      ]
     },
     "execution_count": 11,
     "metadata": {},
     "output_type": "execute_result"
    }
   ],
   "source": [
    "test.loglikelihood(params, delta=0.8)"
   ]
  },
  {
   "cell_type": "code",
   "execution_count": 12,
   "metadata": {},
   "outputs": [
    {
     "data": {
      "text/plain": [
       "-3978.5133779395333"
      ]
     },
     "execution_count": 12,
     "metadata": {},
     "output_type": "execute_result"
    }
   ],
   "source": [
    "test.ll"
   ]
  },
  {
   "cell_type": "code",
   "execution_count": 13,
   "metadata": {},
   "outputs": [
    {
     "data": {
      "text/plain": [
       "'exp'"
      ]
     },
     "execution_count": 13,
     "metadata": {},
     "output_type": "execute_result"
    }
   ],
   "source": [
    "test.kernel_shape"
   ]
  },
  {
   "cell_type": "markdown",
   "metadata": {},
   "source": [
    "Computation of the MLE for a given value of $\\delta$"
   ]
  },
  {
   "cell_type": "code",
   "execution_count": 14,
   "metadata": {},
   "outputs": [],
   "source": [
    "test.compute_mle(params,delta0 = 0.8)"
   ]
  },
  {
   "cell_type": "code",
   "execution_count": 15,
   "metadata": {},
   "outputs": [
    {
     "data": {
      "text/plain": [
       "      fun: -4671.0878820100625\n",
       " hess_inv: <4x4 LbfgsInvHessProduct with dtype=float64>\n",
       "      jac: array([ 0.00218279, -0.00090949, -0.0005457 ,  0.00027285])\n",
       "  message: b'CONVERGENCE: REL_REDUCTION_OF_F_<=_FACTR*EPSMCH'\n",
       "     nfev: 235\n",
       "      nit: 41\n",
       "   status: 0\n",
       "  success: True\n",
       "        x: array([   7.90172553,   95.29825079,  991.05768577, 2780.51777414])"
      ]
     },
     "execution_count": 15,
     "metadata": {},
     "output_type": "execute_result"
    }
   ],
   "source": [
    "test.resoptim"
   ]
  },
  {
   "cell_type": "code",
   "execution_count": 16,
   "metadata": {},
   "outputs": [],
   "source": [
    "test.compute_mle(params,delta0 = 0.7)"
   ]
  },
  {
   "cell_type": "code",
   "execution_count": 17,
   "metadata": {
    "scrolled": true
   },
   "outputs": [
    {
     "data": {
      "text/plain": [
       "      fun: -4660.77687957308\n",
       " hess_inv: <4x4 LbfgsInvHessProduct with dtype=float64>\n",
       "      jac: array([ 6.63931132e-03,  4.54747351e-04, -3.63797881e-04, -9.09494702e-05])\n",
       "  message: b'CONVERGENCE: REL_REDUCTION_OF_F_<=_FACTR*EPSMCH'\n",
       "     nfev: 200\n",
       "      nit: 32\n",
       "   status: 0\n",
       "  success: True\n",
       "        x: array([   4.94274335,   68.7498394 ,  846.14438134, 2161.52904579])"
      ]
     },
     "execution_count": 17,
     "metadata": {},
     "output_type": "execute_result"
    }
   ],
   "source": [
    "test.resoptim"
   ]
  },
  {
   "cell_type": "code",
   "execution_count": 18,
   "metadata": {},
   "outputs": [],
   "source": [
    "test.compute_mle(params,delta0 = 0.85)"
   ]
  },
  {
   "cell_type": "code",
   "execution_count": 19,
   "metadata": {
    "scrolled": true
   },
   "outputs": [
    {
     "data": {
      "text/plain": [
       "      fun: -4702.748475531859\n",
       " hess_inv: <4x4 LbfgsInvHessProduct with dtype=float64>\n",
       "      jac: array([-6.82121026e-03,  1.81898940e-04, -9.09494702e-05,  1.81898940e-04])\n",
       "  message: b'CONVERGENCE: REL_REDUCTION_OF_F_<=_FACTR*EPSMCH'\n",
       "     nfev: 260\n",
       "      nit: 41\n",
       "   status: 0\n",
       "  success: True\n",
       "        x: array([   9.23036951,  120.57914777, 1043.27833052, 3048.68761304])"
      ]
     },
     "execution_count": 19,
     "metadata": {},
     "output_type": "execute_result"
    }
   ],
   "source": [
    "test.resoptim"
   ]
  },
  {
   "cell_type": "code",
   "execution_count": 2,
   "metadata": {},
   "outputs": [
    {
     "data": {
      "text/plain": [
       "9.9"
      ]
     },
     "execution_count": 2,
     "metadata": {},
     "output_type": "execute_result"
    }
   ],
   "source": [
    "8.25*3600/3000"
   ]
  }
 ],
 "metadata": {
  "kernelspec": {
   "display_name": "Python 3",
   "language": "python",
   "name": "python3"
  },
  "language_info": {
   "codemirror_mode": {
    "name": "ipython",
    "version": 3
   },
   "file_extension": ".py",
   "mimetype": "text/x-python",
   "name": "python",
   "nbconvert_exporter": "python",
   "pygments_lexer": "ipython3",
   "version": "3.7.1"
  }
 },
 "nbformat": 4,
 "nbformat_minor": 2
}
