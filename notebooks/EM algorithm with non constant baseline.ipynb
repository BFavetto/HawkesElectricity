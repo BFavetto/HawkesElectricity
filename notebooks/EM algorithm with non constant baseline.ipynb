{
 "cells": [
  {
   "cell_type": "markdown",
   "metadata": {},
   "source": [
    "Nonparametric estimation of the baseline and the kernel by an Expectation Maximization algorithm using piecewise functions\n",
    "\n",
    "EM package : custom functions inspired by ticks library"
   ]
  },
  {
   "cell_type": "code",
   "execution_count": 1,
   "metadata": {},
   "outputs": [],
   "source": [
    "import EM\n",
    "import pandas as pd\n",
    "import numpy as np"
   ]
  },
  {
   "cell_type": "code",
   "execution_count": 2,
   "metadata": {},
   "outputs": [],
   "source": [
    "import matplotlib.pyplot as plt"
   ]
  },
  {
   "cell_type": "markdown",
   "metadata": {},
   "source": [
    "30 trading periods for the month of April 2015"
   ]
  },
  {
   "cell_type": "code",
   "execution_count": 3,
   "metadata": {},
   "outputs": [],
   "source": [
    "df_avril =pd.read_csv(filepath_or_buffer=\"dates_avril_2015.csv\", parse_dates=['date'])"
   ]
  },
  {
   "cell_type": "code",
   "execution_count": 4,
   "metadata": {},
   "outputs": [],
   "source": [
    "liste_date = df_avril['date'].tolist()\n",
    "n = len(liste_date)"
   ]
  },
  {
   "cell_type": "code",
   "execution_count": 5,
   "metadata": {
    "scrolled": true
   },
   "outputs": [],
   "source": [
    "filename_a =\"timestamp_\"\n",
    "filename_c =\".csv\"\n",
    "filename_ps_a =\"delivery_start_\""
   ]
  },
  {
   "cell_type": "code",
   "execution_count": 6,
   "metadata": {},
   "outputs": [],
   "source": [
    "ticks_avril_2015 = []"
   ]
  },
  {
   "cell_type": "code",
   "execution_count": 7,
   "metadata": {},
   "outputs": [],
   "source": [
    "for i in range(n):\n",
    "    s = filename_a + str(i) + filename_c\n",
    "    s_ps = filename_ps_a + str(i) + filename_c    \n",
    "    df_i = pd.read_csv(filepath_or_buffer=s, parse_dates=['timestamp'])\n",
    "    df_ps_i = pd.read_csv(filepath_or_buffer=s_ps, parse_dates=['trading_start']) \n",
    "    ticks_avril_2015.append((np.float64(df_i['timestamp'].values - df_ps_i['trading_start'].values))/(1e9*3600*8.25))"
   ]
  },
  {
   "cell_type": "code",
   "execution_count": null,
   "metadata": {},
   "outputs": [],
   "source": []
  },
  {
   "cell_type": "markdown",
   "metadata": {},
   "source": [
    "To instance the EM class, the size $\\eta$ of the kernel support $[0,\\eta]$ may be specified in order to deal with different scales for the baseline and the kernel\n",
    "\n",
    "Default values :\n",
    "- kernel_support=1\n",
    "- n_bins_baseline=10\n",
    "- n_bins_kernel=10\n",
    "- end_time=1"
   ]
  },
  {
   "cell_type": "code",
   "execution_count": 8,
   "metadata": {},
   "outputs": [],
   "source": [
    "ticksEM= EM.EM(kernel_support=1,n_bins_baseline=10, n_bins_kernel=10)"
   ]
  },
  {
   "cell_type": "markdown",
   "metadata": {},
   "source": [
    "fit method loads the list of arrays (one array of dates belonging to $[0,1]$ per period)"
   ]
  },
  {
   "cell_type": "code",
   "execution_count": 9,
   "metadata": {},
   "outputs": [
    {
     "data": {
      "text/plain": [
       "<EM.EM at 0x1693b311a90>"
      ]
     },
     "execution_count": 9,
     "metadata": {},
     "output_type": "execute_result"
    }
   ],
   "source": [
    "ticksEM.fit(ticks_avril_2015)"
   ]
  },
  {
   "cell_type": "markdown",
   "metadata": {
    "scrolled": true
   },
   "source": [
    "Estimated values are stored in baseline and kernel"
   ]
  },
  {
   "cell_type": "code",
   "execution_count": 10,
   "metadata": {},
   "outputs": [
    {
     "data": {
      "text/plain": [
       "array([0.70779872, 1.66666667, 1.39315921, 1.27053389, 2.02143165,\n",
       "       2.48299122, 1.30990209, 1.59571543, 1.34706924, 0.96903935])"
      ]
     },
     "execution_count": 10,
     "metadata": {},
     "output_type": "execute_result"
    }
   ],
   "source": [
    "ticksEM.baseline"
   ]
  },
  {
   "cell_type": "code",
   "execution_count": 11,
   "metadata": {},
   "outputs": [
    {
     "data": {
      "text/plain": [
       "array([11.47044085,  2.64418194,  2.09696698,  1.96410044,  2.02174424,\n",
       "        4.11959899,  8.3366716 ,  4.44600228,  2.73558957, 24.40229089])"
      ]
     },
     "execution_count": 11,
     "metadata": {},
     "output_type": "execute_result"
    }
   ],
   "source": [
    "ticksEM.kernel"
   ]
  },
  {
   "cell_type": "markdown",
   "metadata": {},
   "source": [
    "Preliminary values for the baseline can be used"
   ]
  },
  {
   "cell_type": "code",
   "execution_count": 16,
   "metadata": {},
   "outputs": [],
   "source": [
    "baseline_0 = np.array([1 , 1 , 1 , 1, 200])"
   ]
  },
  {
   "cell_type": "code",
   "execution_count": 17,
   "metadata": {},
   "outputs": [],
   "source": [
    "ticksEM_0= EM.EM(kernel_support = 0.1, n_bins_baseline = 5)"
   ]
  },
  {
   "cell_type": "code",
   "execution_count": 18,
   "metadata": {},
   "outputs": [
    {
     "data": {
      "text/plain": [
       "<EM.EM at 0x28170671e48>"
      ]
     },
     "execution_count": 18,
     "metadata": {},
     "output_type": "execute_result"
    }
   ],
   "source": [
    "ticksEM_0.fit(events=ticks_avril_2015,baseline_start=baseline_0)"
   ]
  },
  {
   "cell_type": "code",
   "execution_count": 19,
   "metadata": {},
   "outputs": [
    {
     "data": {
      "text/plain": [
       "array([1.19187053, 1.30944064, 2.51270068, 1.64763288, 1.37064803])"
      ]
     },
     "execution_count": 19,
     "metadata": {},
     "output_type": "execute_result"
    }
   ],
   "source": [
    "ticksEM_0.baseline"
   ]
  },
  {
   "cell_type": "code",
   "execution_count": 20,
   "metadata": {},
   "outputs": [
    {
     "data": {
      "text/plain": [
       "array([  1,   1,   1,   1, 200])"
      ]
     },
     "execution_count": 20,
     "metadata": {},
     "output_type": "execute_result"
    }
   ],
   "source": [
    "ticksEM_0.baseline_start"
   ]
  },
  {
   "cell_type": "code",
   "execution_count": 21,
   "metadata": {},
   "outputs": [
    {
     "data": {
      "text/plain": [
       "array([ 1.53042967e+01,  1.87266712e-01,  1.98393727e-01,  6.66078564e+00,\n",
       "        2.68167196e+02, -3.61028561e+01, -1.83927774e-16,  4.16929487e-54,\n",
       "        3.03018418e-62,  5.15585000e-81,  9.46197224e+00])"
      ]
     },
     "execution_count": 21,
     "metadata": {},
     "output_type": "execute_result"
    }
   ],
   "source": [
    "ticksEM_0.kernel"
   ]
  }
 ],
 "metadata": {
  "kernelspec": {
   "display_name": "Python 3",
   "language": "python",
   "name": "python3"
  },
  "language_info": {
   "codemirror_mode": {
    "name": "ipython",
    "version": 3
   },
   "file_extension": ".py",
   "mimetype": "text/x-python",
   "name": "python",
   "nbconvert_exporter": "python",
   "pygments_lexer": "ipython3",
   "version": "3.7.1"
  }
 },
 "nbformat": 4,
 "nbformat_minor": 2
}
