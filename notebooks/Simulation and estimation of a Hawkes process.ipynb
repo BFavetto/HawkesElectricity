{
 "cells": [
  {
   "cell_type": "code",
   "execution_count": 3,
   "metadata": {},
   "outputs": [],
   "source": [
    "import numpy as np\n",
    "\n",
    "from tick.hawkes import SimuHawkes, HawkesKernelSumExp, HawkesKernelExp\n",
    "from tick.plot import plot_point_process, plot_hawkes_kernels\n",
    "\n",
    "import matplotlib.pyplot as plt"
   ]
  },
  {
   "cell_type": "markdown",
   "metadata": {},
   "source": [
    "Time until which this point process will be simulated"
   ]
  },
  {
   "cell_type": "code",
   "execution_count": 2,
   "metadata": {},
   "outputs": [],
   "source": [
    "run_time = 40"
   ]
  },
  {
   "cell_type": "markdown",
   "metadata": {},
   "source": [
    "n_nodes=1 for an univariate process"
   ]
  },
  {
   "cell_type": "code",
   "execution_count": 3,
   "metadata": {},
   "outputs": [],
   "source": [
    "hawkes = SimuHawkes(n_nodes=1, end_time=run_time, verbose=True, seed=1398)"
   ]
  },
  {
   "cell_type": "markdown",
   "metadata": {},
   "source": [
    "Definition of the exponential kernel "
   ]
  },
  {
   "cell_type": "code",
   "execution_count": 4,
   "metadata": {},
   "outputs": [],
   "source": [
    "alpha = 0.5 # intensity of the kernel\n",
    "beta = 1. # decay of the kernel"
   ]
  },
  {
   "cell_type": "code",
   "execution_count": 5,
   "metadata": {},
   "outputs": [],
   "source": [
    "kernel = HawkesKernelExp(alpha, beta)"
   ]
  },
  {
   "cell_type": "code",
   "execution_count": 6,
   "metadata": {},
   "outputs": [],
   "source": [
    "hawkes.set_kernel(0, 0, kernel) # univariate kernel"
   ]
  },
  {
   "cell_type": "markdown",
   "metadata": {},
   "source": [
    "Definition of the baseline"
   ]
  },
  {
   "cell_type": "code",
   "execution_count": 7,
   "metadata": {},
   "outputs": [],
   "source": [
    "hawkes.set_baseline(0, 1.) # constant baseline "
   ]
  },
  {
   "cell_type": "markdown",
   "metadata": {},
   "source": [
    "Definition of the intensity"
   ]
  },
  {
   "cell_type": "code",
   "execution_count": 8,
   "metadata": {},
   "outputs": [],
   "source": [
    "dt = 0.01\n",
    "hawkes.track_intensity(dt)"
   ]
  },
  {
   "cell_type": "markdown",
   "metadata": {},
   "source": [
    "Simulation performed"
   ]
  },
  {
   "cell_type": "code",
   "execution_count": 9,
   "metadata": {},
   "outputs": [
    {
     "name": "stdout",
     "output_type": "stream",
     "text": [
      "----------------------------------------\n",
      "Launching simulation using SimuHawkes...\n",
      "Done simulating using SimuHawkes in 3.68e-01 seconds.\n"
     ]
    }
   ],
   "source": [
    "hawkes.simulate()"
   ]
  },
  {
   "cell_type": "markdown",
   "metadata": {},
   "source": [
    "Timestamps"
   ]
  },
  {
   "cell_type": "code",
   "execution_count": 10,
   "metadata": {},
   "outputs": [],
   "source": [
    "timestamps = hawkes.timestamps"
   ]
  },
  {
   "cell_type": "code",
   "execution_count": 11,
   "metadata": {
    "scrolled": true
   },
   "outputs": [
    {
     "data": {
      "text/plain": [
       "[array([ 0.26171969,  0.3806286 ,  1.36922698,  1.60977497,  3.70263736,\n",
       "         3.74612214,  4.14280944,  4.67876526,  4.74854574,  5.29810156,\n",
       "         6.31200613,  6.80841097,  7.22418089,  7.53319446,  7.80036994,\n",
       "         7.9016934 ,  8.25833508,  8.61132589,  9.00532577,  9.91215871,\n",
       "        11.07209723, 11.15353168, 11.38766705, 11.40293351, 11.56569862,\n",
       "        12.04688628, 12.37084127, 12.57974237, 12.59923119, 12.77227409,\n",
       "        12.77908119, 13.07098926, 13.2613719 , 13.89580782, 14.03690422,\n",
       "        14.18410231, 14.32091975, 14.327441  , 14.34106701, 15.50036178,\n",
       "        16.42676839, 18.80525892, 18.91943677, 19.25724659, 19.688062  ,\n",
       "        20.26607547, 20.38931199, 20.44097874, 20.61664342, 21.06616317,\n",
       "        21.2507119 , 21.57415248, 21.99631256, 22.0343788 , 22.18784971,\n",
       "        22.29601653, 22.35794595, 22.51172644, 22.51856557, 22.56255229,\n",
       "        22.7221866 , 22.87270178, 23.6371422 , 23.74963424, 23.87865314,\n",
       "        24.17650112, 24.29994557, 24.91810856, 25.16088203, 26.20166465,\n",
       "        26.54733426, 28.61689672, 28.70050379, 28.85734994, 29.18417639,\n",
       "        29.73079767, 29.84872397, 30.47607332, 31.19042525, 31.27001831,\n",
       "        32.43279717, 32.4969799 , 32.8127289 , 34.31008796, 36.26586945,\n",
       "        37.57956297, 37.7440477 , 38.99669138, 39.97757184])]"
      ]
     },
     "execution_count": 11,
     "metadata": {},
     "output_type": "execute_result"
    }
   ],
   "source": [
    "timestamps"
   ]
  },
  {
   "cell_type": "markdown",
   "metadata": {},
   "source": [
    "Intensity"
   ]
  },
  {
   "cell_type": "code",
   "execution_count": 12,
   "metadata": {},
   "outputs": [],
   "source": [
    "intensity = hawkes.tracked_intensity"
   ]
  },
  {
   "cell_type": "code",
   "execution_count": 13,
   "metadata": {},
   "outputs": [
    {
     "data": {
      "text/plain": [
       "[array([1.        , 1.        , 1.        , ..., 1.80166002, 1.79971583,\n",
       "        1.79175852])]"
      ]
     },
     "execution_count": 13,
     "metadata": {},
     "output_type": "execute_result"
    }
   ],
   "source": [
    "intensity"
   ]
  },
  {
   "cell_type": "markdown",
   "metadata": {},
   "source": [
    "Intensity times"
   ]
  },
  {
   "cell_type": "code",
   "execution_count": 14,
   "metadata": {},
   "outputs": [],
   "source": [
    "intensity_times = hawkes.intensity_tracked_times"
   ]
  },
  {
   "cell_type": "code",
   "execution_count": 15,
   "metadata": {},
   "outputs": [
    {
     "data": {
      "text/plain": [
       "array([0.00000000e+00, 1.00000000e-02, 2.00000000e-02, ...,\n",
       "       3.99775718e+01, 3.99800000e+01, 3.99900000e+01])"
      ]
     },
     "execution_count": 15,
     "metadata": {},
     "output_type": "execute_result"
    }
   ],
   "source": [
    "intensity_times"
   ]
  },
  {
   "cell_type": "markdown",
   "metadata": {},
   "source": [
    "Plotting the result ($\\lambda_t = 1 + 0.5 \\int_0^t \\exp(-(t-s)) dN_s$)"
   ]
  },
  {
   "cell_type": "code",
   "execution_count": 10,
   "metadata": {},
   "outputs": [
    {
     "data": {
      "image/png": "[encoded data removed]",
      "text/plain": [
       "<matplotlib.figure.Figure at 0x7f460e77d4e0>"
      ]
     },
     "metadata": {},
     "output_type": "display_data"
    }
   ],
   "source": [
    "fig,ax = plt.subplots(1,1)\n",
    "\n",
    "\n",
    "plot_point_process(hawkes, n_points=50000, ax=ax)\n",
    "\n",
    "ax.set_ylabel('$\\lambda(t)$')\n",
    "plt.title(\"Hawkes process (exponential kernel)\")\n",
    "fig.tight_layout()\n",
    "plt.show()"
   ]
  },
  {
   "cell_type": "code",
   "execution_count": null,
   "metadata": {},
   "outputs": [],
   "source": []
  },
  {
   "cell_type": "markdown",
   "metadata": {},
   "source": [
    "Simulation of a power law kernel"
   ]
  },
  {
   "cell_type": "code",
   "execution_count": 12,
   "metadata": {},
   "outputs": [],
   "source": [
    "from tick.hawkes import HawkesKernelPowerLaw, HawkesConditionalLaw"
   ]
  },
  {
   "cell_type": "markdown",
   "metadata": {},
   "source": [
    "kernel : $\\phi(t) = \\frac{\\alpha}{(\\delta + t)^{\\beta}} \\textbf{1}_{t >0}$"
   ]
  },
  {
   "cell_type": "code",
   "execution_count": 13,
   "metadata": {},
   "outputs": [],
   "source": [
    "multiplier = 0.1 # alpha\n",
    "cutoff = 0.5 # delta\n",
    "exponent = 4. # beta\n",
    "support = 2000 # upper bound of the support"
   ]
  },
  {
   "cell_type": "code",
   "execution_count": 14,
   "metadata": {},
   "outputs": [],
   "source": [
    "kernel_pl = HawkesKernelPowerLaw(multiplier, cutoff, exponent, support)"
   ]
  },
  {
   "cell_type": "markdown",
   "metadata": {},
   "source": [
    "Baseline parameter $\\mu$"
   ]
  },
  {
   "cell_type": "code",
   "execution_count": 15,
   "metadata": {},
   "outputs": [],
   "source": [
    "baseline_pl = 0.5"
   ]
  },
  {
   "cell_type": "code",
   "execution_count": 16,
   "metadata": {},
   "outputs": [],
   "source": [
    "hawkes_pl = SimuHawkes(n_nodes=1, end_time=run_time , seed=382, verbose=True)"
   ]
  },
  {
   "cell_type": "code",
   "execution_count": 17,
   "metadata": {},
   "outputs": [],
   "source": [
    "hawkes_pl.set_kernel(0, 0, kernel_pl)"
   ]
  },
  {
   "cell_type": "code",
   "execution_count": 18,
   "metadata": {},
   "outputs": [],
   "source": [
    "hawkes_pl.set_baseline(0, baseline_pl)"
   ]
  },
  {
   "cell_type": "markdown",
   "metadata": {},
   "source": [
    "Verfy the norm (must be < 1)"
   ]
  },
  {
   "cell_type": "code",
   "execution_count": 19,
   "metadata": {},
   "outputs": [
    {
     "data": {
      "text/plain": [
       "0.2666666666625031"
      ]
     },
     "execution_count": 19,
     "metadata": {},
     "output_type": "execute_result"
    }
   ],
   "source": [
    "kernel_pl.get_norm()"
   ]
  },
  {
   "cell_type": "code",
   "execution_count": 20,
   "metadata": {},
   "outputs": [],
   "source": [
    "dt = 0.01\n",
    "hawkes_pl.track_intensity(dt)"
   ]
  },
  {
   "cell_type": "code",
   "execution_count": 21,
   "metadata": {},
   "outputs": [
    {
     "name": "stdout",
     "output_type": "stream",
     "text": [
      "----------------------------------------\n",
      "Launching simulation using SimuHawkes...\n",
      "Done simulating using SimuHawkes in 5.13e-02 seconds.\n"
     ]
    }
   ],
   "source": [
    "hawkes_pl.simulate()"
   ]
  },
  {
   "cell_type": "code",
   "execution_count": 22,
   "metadata": {},
   "outputs": [],
   "source": [
    "intensity_pl = hawkes_pl.tracked_intensity"
   ]
  },
  {
   "cell_type": "code",
   "execution_count": 28,
   "metadata": {},
   "outputs": [
    {
     "data": {
      "text/plain": [
       "[array([0.5       , 0.5       , 0.5       , ..., 0.67992852, 0.67300492,\n",
       "        0.66641283])]"
      ]
     },
     "execution_count": 28,
     "metadata": {},
     "output_type": "execute_result"
    }
   ],
   "source": [
    "intensity_pl"
   ]
  },
  {
   "cell_type": "code",
   "execution_count": 29,
   "metadata": {},
   "outputs": [],
   "source": [
    "timestamps_pl = hawkes_pl.timestamps"
   ]
  },
  {
   "cell_type": "code",
   "execution_count": 30,
   "metadata": {},
   "outputs": [
    {
     "data": {
      "text/plain": [
       "[array([ 1.39800107,  1.46084807,  3.75557734,  4.49255862,  4.86912839,\n",
       "         5.18885071,  7.54422235, 10.08579489, 11.40097437, 12.40380973,\n",
       "        12.93447633, 14.44968325, 14.61994016, 14.62261229, 14.68362669,\n",
       "        14.70609153, 14.88783137, 15.94654675, 17.65968409, 18.70427331,\n",
       "        18.82163262, 19.31437578, 22.01114914, 22.39408667, 22.43338366,\n",
       "        22.78016089, 23.13763636, 24.62431262, 25.46200504, 25.59067003,\n",
       "        31.35997309, 32.0125269 , 34.44088276, 39.35175386, 39.50611841])]"
      ]
     },
     "execution_count": 30,
     "metadata": {},
     "output_type": "execute_result"
    }
   ],
   "source": [
    "timestamps_pl"
   ]
  },
  {
   "cell_type": "code",
   "execution_count": 31,
   "metadata": {},
   "outputs": [],
   "source": [
    "intensity_times_pl = hawkes_pl.intensity_tracked_times"
   ]
  },
  {
   "cell_type": "code",
   "execution_count": 32,
   "metadata": {},
   "outputs": [
    {
     "data": {
      "text/plain": [
       "array([0.000e+00, 1.000e-02, 2.000e-02, ..., 3.997e+01, 3.998e+01,\n",
       "       3.999e+01])"
      ]
     },
     "execution_count": 32,
     "metadata": {},
     "output_type": "execute_result"
    }
   ],
   "source": [
    "intensity_times_pl"
   ]
  },
  {
   "cell_type": "code",
   "execution_count": 23,
   "metadata": {
    "scrolled": true
   },
   "outputs": [
    {
     "data": {
      "image/png": "[encoded data removed]",
      "text/plain": [
       "<matplotlib.figure.Figure at 0x7f4606b76ac8>"
      ]
     },
     "metadata": {},
     "output_type": "display_data"
    }
   ],
   "source": [
    "fig_pl,ax_pl = plt.subplots(1,1)\n",
    "\n",
    "\n",
    "plot_point_process(hawkes_pl, n_points=50000, ax=ax_pl)\n",
    "\n",
    "ax_pl.set_ylabel('$\\lambda(t)$')\n",
    "plt.title(\"Hawkes process (power law kernel)\")\n",
    "fig_pl.tight_layout()\n",
    "plt.show()"
   ]
  },
  {
   "cell_type": "code",
   "execution_count": null,
   "metadata": {},
   "outputs": [],
   "source": []
  },
  {
   "cell_type": "markdown",
   "metadata": {},
   "source": [
    "Testing parametric estimation on simulated data"
   ]
  },
  {
   "cell_type": "code",
   "execution_count": 24,
   "metadata": {},
   "outputs": [],
   "source": [
    "from tick.hawkes import SimuHawkesSumExpKernels, HawkesSumExpKern"
   ]
  },
  {
   "cell_type": "code",
   "execution_count": 25,
   "metadata": {},
   "outputs": [],
   "source": [
    "end_time = 1000\n",
    "\n",
    "decays = [0.1, 0.5, 1.] # sum of three exponential functions -> list of the beta coefficients\n",
    "baseline = [0.12, 0.07]\n",
    "adjacency = [[[0, .1, .4], [.2, 0., .2]],\n",
    "             [[0, 0, 0], [.6, .3, 0]]] # alpha matrix -> bivariate process\n"
   ]
  },
  {
   "cell_type": "markdown",
   "metadata": {},
   "source": [
    "Simulation of a Hawkes process with sum-of-exponentials kernel "
   ]
  },
  {
   "cell_type": "code",
   "execution_count": 26,
   "metadata": {},
   "outputs": [],
   "source": [
    "hawkes_exp_kernels = SimuHawkesSumExpKernels(\n",
    "    adjacency=adjacency, decays=decays, baseline=baseline,\n",
    "    end_time=end_time, verbose=True, seed=1039)"
   ]
  },
  {
   "cell_type": "code",
   "execution_count": 27,
   "metadata": {},
   "outputs": [
    {
     "name": "stdout",
     "output_type": "stream",
     "text": [
      "-----------------------------------------------------\n",
      "Launching simulation using SimuHawkesSumExpKernels...\n",
      "Done simulating using SimuHawkesSumExpKernels in 4.22e-02 seconds.\n"
     ]
    }
   ],
   "source": [
    "hawkes_exp_kernels.track_intensity(0.1)\n",
    "hawkes_exp_kernels.simulate()"
   ]
  },
  {
   "cell_type": "code",
   "execution_count": 9,
   "metadata": {
    "scrolled": true
   },
   "outputs": [
    {
     "data": {
      "text/plain": [
       "[array([  8.07973295,  52.06570109,  54.98603575,  55.47248514,\n",
       "         56.62529529,  67.50286854,  69.77853014,  71.31454956,\n",
       "         71.9822981 ,  76.02288614,  79.18473047,  85.1330986 ,\n",
       "         85.14602597,  86.5862555 ,  94.31599964,  96.63047829,\n",
       "         96.81963812,  98.26298325,  98.39889061,  98.59154856,\n",
       "        100.93200828, 101.81614065, 106.87274673, 107.17987003,\n",
       "        108.79992302, 115.67967336, 116.33303524, 116.76980239,\n",
       "        130.4044442 , 132.85752942, 138.67554092, 139.1975983 ,\n",
       "        139.39436649, 139.65104368, 139.66227914, 139.91145782,\n",
       "        148.21950748, 148.33872838, 149.2957764 , 151.22008828,\n",
       "        151.49289493, 152.58444751, 153.20535949, 153.93960616,\n",
       "        156.58416723, 156.94093841, 173.08883538, 173.95811533,\n",
       "        174.00568858, 174.92280182, 185.17895184, 185.4596024 ,\n",
       "        192.72904357, 203.54608202, 203.96443621, 204.29742408,\n",
       "        207.79417881, 207.9438326 , 208.0025399 , 208.47693469,\n",
       "        208.49618555, 208.84634262, 210.41644056, 210.64977938,\n",
       "        211.31675663, 211.82425856, 213.03471658, 215.20146262,\n",
       "        219.04948566, 219.21425279, 220.17409118, 220.9007437 ,\n",
       "        221.6029137 , 228.77513872, 230.61366867, 256.11495843,\n",
       "        260.8261362 , 286.72009712, 287.44204419, 287.76798921,\n",
       "        287.84062335, 288.29209984, 290.76542008, 291.13042985,\n",
       "        291.22216656, 295.70849658, 296.64328092, 298.03042292,\n",
       "        301.86878069, 302.22939119, 302.71154481, 302.74911427,\n",
       "        303.17698479, 303.72809598, 303.75911852, 304.69082339,\n",
       "        305.08950069, 306.79996775, 306.80679003, 306.99109531,\n",
       "        321.05288026, 321.42077023, 321.98218008, 322.06525378,\n",
       "        323.45887094, 323.80288034, 324.94136414, 325.32156022,\n",
       "        326.59735772, 327.18134482, 330.03929814, 330.85046769,\n",
       "        332.86707864, 344.16786844, 346.4749015 , 351.93294002,\n",
       "        362.81883711, 363.48110182, 364.33309772, 379.1251587 ,\n",
       "        379.22645663, 381.96993399, 393.7711542 , 401.58603885,\n",
       "        401.73885136, 406.43282277, 408.99652393, 409.24144159,\n",
       "        409.3507264 , 413.57071865, 445.10393296, 446.53444178,\n",
       "        446.65729596, 453.76305815, 454.78898711, 455.71839274,\n",
       "        456.86062819, 466.99103499, 471.62727087, 472.32930716,\n",
       "        472.58339845, 472.84474755, 474.46381414, 476.46534849,\n",
       "        478.20786175, 478.25827408, 478.47555336, 478.97892039,\n",
       "        479.3567661 , 483.1658122 , 500.80622113, 524.94508497,\n",
       "        526.30892474, 526.54712736, 526.8189522 , 527.8343576 ,\n",
       "        536.82943901, 543.00204907, 544.51178291, 545.21933284,\n",
       "        545.26574902, 545.28558514, 545.67581114, 545.72357256,\n",
       "        546.80851621, 546.89756299, 546.97419823, 547.24461165,\n",
       "        547.91967097, 555.53224415, 555.68912036, 556.18034524,\n",
       "        556.88795807, 558.43147564, 558.56293958, 558.66268309,\n",
       "        559.87876183, 560.19221561, 560.5628931 , 563.45016016,\n",
       "        565.35858173, 565.43274779, 566.70453437, 570.31101325,\n",
       "        579.38887737, 581.08371527, 588.88022814, 589.00537441,\n",
       "        612.07383899, 613.64861046, 613.78032628, 615.16523553,\n",
       "        617.26255533, 617.69003529, 618.14998767, 618.43957707,\n",
       "        618.58111126, 626.21285017, 626.38146549, 627.16469656,\n",
       "        627.20929681, 627.83251068, 628.51765163, 630.91292575,\n",
       "        632.20220041, 632.35938656, 633.47498822, 637.05301502,\n",
       "        637.38883406, 649.72036898, 650.1038501 , 650.29052021,\n",
       "        651.03362003, 651.49229799, 682.10890908, 684.58686652,\n",
       "        687.41262158, 690.55834354, 693.03322266, 694.24002279,\n",
       "        694.60770818, 698.15271765, 699.29608459, 701.37774954,\n",
       "        702.96693656, 712.29380052, 714.8215667 , 715.37416683,\n",
       "        715.70958539, 715.76645626, 716.07908865, 716.44321671,\n",
       "        721.90197194, 723.08164151, 724.17598487, 739.02703366,\n",
       "        739.58322172, 740.35095363, 741.69678637, 741.70343284,\n",
       "        743.10044509, 743.17304147, 743.33835908, 743.39504046,\n",
       "        743.49555955, 743.59510012, 743.71860301, 743.84597056,\n",
       "        743.9861365 , 744.58929993, 744.82848998, 745.32037875,\n",
       "        758.49994303, 759.02489813, 764.25786172, 778.64781675,\n",
       "        787.61372325, 788.11483862, 788.36077718, 788.68335224,\n",
       "        789.13285529, 789.19158827, 789.4296236 , 789.5360274 ,\n",
       "        790.76902357, 791.31323329, 794.01355911, 798.79858703,\n",
       "        799.20059571, 799.54600913, 800.61893979, 802.16446452,\n",
       "        802.88009106, 803.28668131, 804.66736603, 805.10066938,\n",
       "        808.70194098, 812.8666955 , 815.16582872, 815.21992009,\n",
       "        816.47837569, 816.6043668 , 816.62771139, 817.91565841,\n",
       "        818.68514106, 828.42329218, 829.61920024, 831.82336767,\n",
       "        843.83760298, 844.89845908, 844.95846541, 847.90714289,\n",
       "        848.18393873, 848.73021724, 849.68252709, 850.00648901,\n",
       "        850.24014256, 850.37395807, 850.56841289, 852.62255188,\n",
       "        853.10861513, 857.84416617, 863.57428342, 864.18512581,\n",
       "        864.52802399, 864.76675857, 865.5208603 , 865.54785478,\n",
       "        865.95762267, 866.78381287, 868.08566742, 868.33801579,\n",
       "        869.00984526, 870.02243418, 870.34673354, 870.36576648,\n",
       "        871.30166586, 872.30828771, 874.94235982, 875.61068199,\n",
       "        876.01413781, 878.44561634, 878.55422035, 879.59165256,\n",
       "        880.09306956, 881.19633493, 882.29367544, 882.66602763,\n",
       "        882.76933064, 883.43532902, 883.71766988, 884.68374186,\n",
       "        884.78855223, 886.75145319, 887.94735555, 888.39248941,\n",
       "        888.85621459, 889.20915061, 890.0649313 , 890.0701443 ,\n",
       "        890.48461705, 890.65375992, 890.69163254, 891.74521393,\n",
       "        892.06220387, 892.25018306, 892.51138064, 892.52989674,\n",
       "        892.62439848, 892.74400112, 893.47417167, 893.81699353,\n",
       "        894.05195934, 894.10281701, 894.68113358, 895.24958095,\n",
       "        895.35540168, 895.71905852, 895.79851309, 896.3372766 ,\n",
       "        896.38130879, 896.86924816, 898.17555186, 898.8007566 ,\n",
       "        899.15412864, 899.43905563, 899.51814392, 900.42551356,\n",
       "        901.0398635 , 901.53189983, 902.16039912, 902.19856021,\n",
       "        903.17817075, 903.30053074, 903.38945041, 904.99450156,\n",
       "        906.38904868, 906.65594883, 906.72025608, 907.74625957,\n",
       "        908.39882973, 908.51357156, 908.59178521, 908.78240003,\n",
       "        910.76398198, 911.50944192, 913.21299003, 913.87575708,\n",
       "        914.84312612, 917.55752546, 917.91877708, 917.93462346,\n",
       "        918.45803045, 918.73819008, 919.22061914, 919.33925347,\n",
       "        920.92420303, 921.693025  , 921.69690318, 921.69751882,\n",
       "        921.75950764, 921.91504722, 922.76678364, 923.22270802,\n",
       "        923.37376432, 923.87782457, 924.08461127, 924.55539025,\n",
       "        924.57302536, 924.6733839 , 924.99643225, 925.26753385,\n",
       "        925.28800368, 925.42793699, 925.48035198, 926.00486155,\n",
       "        926.2067436 , 926.76899781, 927.28400904, 927.62496176,\n",
       "        927.70611698, 928.0841289 , 928.42722462, 929.34170565,\n",
       "        929.37251759, 929.44130506, 932.66454742, 937.00658719,\n",
       "        940.19277693, 942.1612245 , 942.58813011, 944.10300505,\n",
       "        945.45154371, 945.74903976, 946.73222412, 946.79816492,\n",
       "        947.74133978, 948.55617573, 949.42410986, 949.98816309,\n",
       "        951.57471928, 951.95114587, 952.23690859, 952.84240484,\n",
       "        953.4850089 , 953.67026228, 954.08241593, 954.68550725,\n",
       "        954.86341772, 955.20763661, 955.78058886, 955.99973858,\n",
       "        958.51796159, 959.85590921, 960.39684848, 960.95217424,\n",
       "        961.43288133, 961.71962582, 961.92471898, 961.9488805 ,\n",
       "        961.95538061, 962.09123045, 962.25394997, 962.53827522,\n",
       "        963.98565748, 964.31584886, 964.3746662 , 964.66722447,\n",
       "        964.87250634, 964.87574366, 964.97202363, 965.2393172 ,\n",
       "        965.49116897, 965.59024648, 965.96653308, 967.42244959,\n",
       "        967.80761712, 968.09094959, 969.2009685 , 970.47752384,\n",
       "        972.07607856, 972.59527094, 974.42113916, 975.19203209,\n",
       "        975.31275692, 977.23698202, 977.62712897, 977.82464019,\n",
       "        978.29015928, 979.88173716, 980.19611923, 982.23929408,\n",
       "        982.47864187, 982.49188005, 983.38908425, 983.50847152,\n",
       "        983.70460095, 983.76680473, 983.9349782 , 983.97143904,\n",
       "        984.48670261, 984.5416833 , 984.54204799, 984.87735069,\n",
       "        984.9081301 , 985.03735385, 985.07540749, 985.21485641,\n",
       "        986.88113656, 987.15633101, 987.43578382, 987.66397598,\n",
       "        987.90691011, 988.13028739, 988.28047532, 989.30705488,\n",
       "        989.72480409, 989.86680604, 989.89026316, 991.28363281,\n",
       "        991.30577554, 991.52509694, 991.98680978, 992.95450669,\n",
       "        994.12347621, 994.50153972, 995.025364  , 996.13005017,\n",
       "        996.49663887, 996.98958441, 997.78765362, 998.10957228]),\n",
       " array([ 52.03137211,  52.88544112,  53.06309189,  54.70765558,\n",
       "         57.70227581,  58.72001288,  64.73415314,  73.44117392,\n",
       "         73.73008643,  75.17602924,  75.45037233,  77.78777253,\n",
       "         78.66790136,  85.03042381,  89.08540825,  89.19624164,\n",
       "         90.57297351,  91.04907407,  93.62918612,  94.49169423,\n",
       "         96.33958738,  97.36732392,  97.56060974,  98.2295157 ,\n",
       "        100.44241698, 101.70367566, 104.10010042, 106.20198775,\n",
       "        113.31670327, 114.23774115, 115.01056552, 116.18008534,\n",
       "        116.71269461, 117.26494096, 117.89748943, 119.43963882,\n",
       "        119.82385923, 120.71153014, 121.0863566 , 121.36990924,\n",
       "        125.52075113, 128.50341217, 128.99802506, 131.58069744,\n",
       "        132.84930177, 138.29306691, 138.5115946 , 138.60223795,\n",
       "        138.80999509, 142.24946426, 144.86272979, 146.30267458,\n",
       "        148.34155776, 151.18098522, 151.70846654, 152.6340811 ,\n",
       "        152.86048057, 155.45696262, 158.21889426, 158.28338448,\n",
       "        159.25602814, 159.34910382, 159.48184238, 161.5687064 ,\n",
       "        183.71107616, 203.89062095, 204.49744385, 214.5343284 ,\n",
       "        215.04371613, 217.30400182, 217.99738142, 219.94794025,\n",
       "        220.72535414, 225.58224682, 225.65661572, 228.08400113,\n",
       "        238.47205348, 243.12739681, 260.03447382, 260.69218014,\n",
       "        261.47837315, 261.99152589, 264.06505217, 265.69949996,\n",
       "        267.34500499, 268.81338244, 276.59599253, 281.80853579,\n",
       "        282.21427038, 283.61858377, 285.63178578, 290.41754649,\n",
       "        295.22086543, 296.19120876, 301.88031122, 320.3983881 ,\n",
       "        364.95680989, 393.54053041, 409.06982388, 418.74360934,\n",
       "        503.93817987, 511.42780809, 533.52592836, 545.38259243,\n",
       "        546.94977356, 547.79856959, 555.17888051, 555.31421742,\n",
       "        559.91465738, 574.01409567, 575.65022936, 576.28131728,\n",
       "        576.39675255, 580.24811871, 587.13284238, 593.12268049,\n",
       "        612.30552527, 618.40534698, 620.37062228, 620.72909148,\n",
       "        621.0368242 , 622.79379034, 625.00706744, 627.03021607,\n",
       "        629.33889957, 629.527955  , 631.19275697, 668.7334985 ,\n",
       "        681.95322443, 685.37602702, 685.46794737, 692.99483865,\n",
       "        699.62101635, 700.16406938, 700.6746626 , 701.22080338,\n",
       "        704.29015102, 709.76474778, 710.94848119, 712.24537298,\n",
       "        712.38826918, 717.03799788, 719.17410232, 727.01077958,\n",
       "        734.55921786, 738.66980548, 739.39272031, 779.09431933,\n",
       "        795.23732519, 795.39117141, 806.58761939, 812.84420542,\n",
       "        813.33886912, 814.67154041, 814.67956617, 814.73929075,\n",
       "        815.05409708, 815.05740086, 820.04713224, 828.06071234,\n",
       "        830.66361057, 831.09674822, 835.77351507, 838.80429738,\n",
       "        839.77844393, 840.79071987, 842.04553092, 843.13871002,\n",
       "        845.99375668, 847.93680342, 848.83918134, 855.94105294,\n",
       "        856.66093951, 858.78979259, 859.0078561 , 859.33985018,\n",
       "        859.71476945, 859.92035784, 860.11979174, 860.3475977 ,\n",
       "        860.81585694, 861.9656923 , 862.23577419, 862.60640726,\n",
       "        862.63884741, 862.98645994, 863.16228101, 863.36716123,\n",
       "        863.73808416, 864.13369902, 864.27117117, 864.74720839,\n",
       "        865.38745513, 866.31507879, 866.45928269, 866.47226761,\n",
       "        867.22375275, 867.85596361, 868.41044805, 871.13160481,\n",
       "        871.19552337, 871.68373158, 872.74557442, 872.77441744,\n",
       "        873.18942352, 873.44610313, 873.82551269, 873.86921436,\n",
       "        873.87058922, 875.02895771, 875.17414424, 876.08981525,\n",
       "        876.50827214, 876.8701865 , 877.50518683, 877.8949171 ,\n",
       "        877.94882488, 878.21990699, 878.23548839, 879.10398676,\n",
       "        879.17650342, 880.83723714, 880.85990657, 881.12744661,\n",
       "        881.3012598 , 881.35812522, 881.66995898, 881.74654787,\n",
       "        881.88246898, 882.59131806, 882.67734902, 883.99116532,\n",
       "        884.00464878, 884.4783052 , 885.23917329, 885.71383424,\n",
       "        885.98539079, 886.92617827, 886.9312597 , 887.02335885,\n",
       "        887.21696235, 887.64749889, 887.76580444, 888.23269606,\n",
       "        888.36355551, 888.61173845, 889.13844211, 889.4568841 ,\n",
       "        889.53209455, 889.55527799, 889.55946192, 889.90028407,\n",
       "        891.90692678, 891.99300938, 892.22808782, 892.29215741,\n",
       "        892.34718791, 893.85902915, 893.99678199, 894.12518104,\n",
       "        894.26805438, 894.41672963, 894.42600042, 894.6154129 ,\n",
       "        894.98946024, 895.06804972, 895.13578831, 895.75124173,\n",
       "        896.58598091, 896.65219141, 896.68046394, 896.86120639,\n",
       "        896.94219002, 897.12054509, 897.38046522, 897.50565607,\n",
       "        897.52802319, 898.03724303, 898.60653339, 899.22362939,\n",
       "        899.59030144, 899.59568452, 899.71706623, 900.11836814,\n",
       "        900.68433657, 900.94193873, 901.31833366, 901.90058632,\n",
       "        902.04698242, 902.14984111, 902.35931246, 902.54527957,\n",
       "        902.68055462, 904.0770562 , 904.31271556, 904.59344499,\n",
       "        904.6772831 , 904.70072145, 904.72627302, 905.60170317,\n",
       "        905.76928733, 906.23322076, 907.64977919, 908.60974395,\n",
       "        908.852682  , 908.89427316, 909.68779424, 909.8278422 ,\n",
       "        910.12953187, 910.80174245, 911.43526458, 911.96451405,\n",
       "        913.257646  , 913.33165793, 913.8081385 , 914.51192464,\n",
       "        915.9745172 , 916.31979648, 917.15942722, 917.55837709,\n",
       "        917.67937189, 917.69610235, 917.70455638, 917.88438272,\n",
       "        917.94278112, 917.98591652, 918.62899562, 920.03117257,\n",
       "        920.53859479, 920.8327454 , 921.03644442, 921.83868735,\n",
       "        922.8375684 , 924.95026374, 925.16717575, 925.23646512,\n",
       "        925.26622549, 926.31462002, 926.76281684, 927.27688584,\n",
       "        927.63449348, 927.95148363, 927.95955209, 928.71027138,\n",
       "        930.43474844, 932.14731352, 932.23220161, 932.30292343,\n",
       "        932.46036173, 932.66696833, 932.76355862, 933.40820054,\n",
       "        933.89287696, 934.07913878, 934.4679172 , 934.96083537,\n",
       "        935.17384127, 936.57070994, 937.42067386, 937.75543543,\n",
       "        938.16177226, 938.18997413, 938.93063975, 939.05616743,\n",
       "        939.41257666, 939.70487407, 939.75559939, 940.56949383,\n",
       "        940.78723304, 941.17399553, 941.17491116, 941.27895196,\n",
       "        941.60203527, 941.91749687, 942.15854741, 942.68640597,\n",
       "        942.81555049, 943.96782363, 946.50985944, 948.93683855,\n",
       "        949.05770171, 949.14778635, 949.6321779 , 950.15812705,\n",
       "        950.52434508, 950.98184209, 951.63500029, 951.73316609,\n",
       "        951.81829473, 952.11082625, 952.41075145, 952.89037152,\n",
       "        953.42174122, 953.45140791, 953.45196523, 953.50611072,\n",
       "        954.80649354, 955.40484502, 956.17375532, 956.4507972 ,\n",
       "        956.45335449, 956.71744959, 957.51368195, 957.60275615,\n",
       "        957.67943508, 957.78334743, 959.78649696, 960.31663276,\n",
       "        961.16810474, 962.11239406, 962.60772734, 963.36042718,\n",
       "        963.3898332 , 963.91453269, 965.87006946, 967.35926519,\n",
       "        967.90521773, 969.56531605, 969.5746973 , 969.85595657,\n",
       "        970.14989819, 970.15572153, 970.1827104 , 970.54865593,\n",
       "        971.60091708, 971.93206247, 974.0220486 , 974.98715662,\n",
       "        976.93964639, 977.65092916, 978.01167601, 978.07234843,\n",
       "        979.74365418, 981.24450121, 981.78736794, 982.32143094,\n",
       "        982.76824524, 983.00288806, 983.47721824, 985.45339411,\n",
       "        985.71378524, 987.51464827, 988.59133941, 989.46275604,\n",
       "        990.13769005, 990.7601488 , 990.80916133, 992.23329112,\n",
       "        992.26896235, 993.52966721, 993.88069482, 994.13044379,\n",
       "        994.49371176, 994.50619897, 995.09207067, 995.94022632,\n",
       "        996.00087972, 996.18794221, 996.28656783, 996.57527397,\n",
       "        997.29002306, 997.36369571])]"
      ]
     },
     "execution_count": 9,
     "metadata": {},
     "output_type": "execute_result"
    }
   ],
   "source": [
    "hawkes_exp_kernels.timestamps"
   ]
  },
  {
   "cell_type": "markdown",
   "metadata": {},
   "source": [
    "Timestamps have to be given to a learner."
   ]
  },
  {
   "cell_type": "markdown",
   "metadata": {},
   "source": [
    "Plot of the bidimensional process"
   ]
  },
  {
   "cell_type": "code",
   "execution_count": 28,
   "metadata": {},
   "outputs": [
    {
     "data": {
      "image/png": "[encoded data removed]",
      "text/plain": [
       "<matplotlib.figure.Figure at 0x7f4606abb438>"
      ]
     },
     "metadata": {},
     "output_type": "display_data"
    }
   ],
   "source": [
    "plot_point_process(hawkes_exp_kernels, n_points=50000)\n",
    "plt.show()"
   ]
  },
  {
   "cell_type": "markdown",
   "metadata": {},
   "source": [
    "Estimation procedure"
   ]
  },
  {
   "cell_type": "code",
   "execution_count": 29,
   "metadata": {},
   "outputs": [
    {
     "data": {
      "text/plain": [
       "<tick.hawkes.inference.hawkes_sumexpkern_fixeddecay.HawkesSumExpKern at 0x7f4606a3f588>"
      ]
     },
     "execution_count": 29,
     "metadata": {},
     "output_type": "execute_result"
    }
   ],
   "source": [
    "learner = HawkesSumExpKern(decays, penalty='elasticnet',elastic_net_ratio=0.8)\n",
    "learner.fit(hawkes_exp_kernels.timestamps)"
   ]
  },
  {
   "cell_type": "code",
   "execution_count": 30,
   "metadata": {},
   "outputs": [
    {
     "data": {
      "image/png": "[encoded data removed]",
      "text/plain": [
       "<matplotlib.figure.Figure at 0x7f460681ca58>"
      ]
     },
     "metadata": {},
     "output_type": "display_data"
    }
   ],
   "source": [
    "t_min = 100\n",
    "t_max = 200\n",
    "\n",
    "fig, ax_list = plt.subplots(2, 1, figsize=(10, 6))\n",
    "learner.plot_estimated_intensity(hawkes_exp_kernels.timestamps,\n",
    "                                 t_min=t_min, t_max=t_max,\n",
    "                                 ax=ax_list)\n",
    "\n",
    "plot_point_process(hawkes_exp_kernels, plot_intensity=True,\n",
    "                   t_min=t_min, t_max=t_max, ax=ax_list)\n",
    "\n",
    "# Enhance plot\n",
    "for ax in ax_list:\n",
    "    # Set labels to both plots\n",
    "    ax.lines[0].set_label('estimated')\n",
    "    ax.lines[1].set_label('original')\n",
    "\n",
    "    # Change original intensity style\n",
    "    ax.lines[1].set_linestyle('--')\n",
    "    ax.lines[1].set_alpha(0.8)\n",
    "\n",
    "    # avoid duplication of scatter plots of events\n",
    "    ax.collections[1].set_alpha(0)\n",
    "\n",
    "    ax.legend()\n",
    "\n",
    "plt.show()"
   ]
  },
  {
   "cell_type": "code",
   "execution_count": null,
   "metadata": {},
   "outputs": [],
   "source": []
  },
  {
   "cell_type": "markdown",
   "metadata": {},
   "source": [
    "Parameter estimation of a Hawkes process with single exponential kernel"
   ]
  },
  {
   "cell_type": "code",
   "execution_count": 1,
   "metadata": {},
   "outputs": [],
   "source": [
    "from tick.hawkes import HawkesKernelExp, SimuHawkesExpKernels"
   ]
  },
  {
   "cell_type": "code",
   "execution_count": 2,
   "metadata": {},
   "outputs": [
    {
     "ename": "NameError",
     "evalue": "name 'np' is not defined",
     "output_type": "error",
     "traceback": [
      "\u001b[0;31m---------------------------------------------------------------------------\u001b[0m",
      "\u001b[0;31mNameError\u001b[0m                                 Traceback (most recent call last)",
      "\u001b[0;32m<ipython-input-2-406a5f4b3ddb>\u001b[0m in \u001b[0;36m<module>\u001b[0;34m()\u001b[0m\n\u001b[1;32m      1\u001b[0m \u001b[0mdecay_exp\u001b[0m \u001b[0;34m=\u001b[0m \u001b[0;36m0.3\u001b[0m\u001b[0;34m\u001b[0m\u001b[0m\n\u001b[0;32m----> 2\u001b[0;31m \u001b[0madjacency_exp\u001b[0m \u001b[0;34m=\u001b[0m \u001b[0mnp\u001b[0m\u001b[0;34m.\u001b[0m\u001b[0marray\u001b[0m\u001b[0;34m(\u001b[0m\u001b[0;34m[\u001b[0m\u001b[0;34m[\u001b[0m\u001b[0;36m0.5\u001b[0m\u001b[0;34m]\u001b[0m\u001b[0;34m]\u001b[0m\u001b[0;34m)\u001b[0m\u001b[0;34m\u001b[0m\u001b[0m\n\u001b[0m\u001b[1;32m      3\u001b[0m \u001b[0mbaseline_exp\u001b[0m \u001b[0;34m=\u001b[0m \u001b[0;34m[\u001b[0m\u001b[0;36m0.5\u001b[0m\u001b[0;34m]\u001b[0m\u001b[0;34m\u001b[0m\u001b[0m\n\u001b[1;32m      4\u001b[0m \u001b[0mend_time_exp\u001b[0m \u001b[0;34m=\u001b[0m \u001b[0;36m1e3\u001b[0m\u001b[0;34m\u001b[0m\u001b[0m\n",
      "\u001b[0;31mNameError\u001b[0m: name 'np' is not defined"
     ]
    }
   ],
   "source": [
    "decay_exp = 0.3\n",
    "adjacency_exp = np.array([[0.5]])\n",
    "baseline_exp = [0.5]\n",
    "end_time_exp = 1e3"
   ]
  },
  {
   "cell_type": "code",
   "execution_count": null,
   "metadata": {},
   "outputs": [],
   "source": [
    "hawkes_exp = SimuHawkesExpKernels(\n",
    "    adjacency=adjacency_exp, decays=decay_exp, baseline=baseline_exp,\n",
    "    end_time=end_time_exp, verbose=True, seed=1039)\n",
    "hawkes_exp.track_intensity(0.1)\n",
    "hawkes_exp.simulate()"
   ]
  },
  {
   "cell_type": "code",
   "execution_count": null,
   "metadata": {},
   "outputs": [],
   "source": [
    "plot_point_process(hawkes_exp, n_points=50000)\n",
    "plt.show()"
   ]
  },
  {
   "cell_type": "code",
   "execution_count": null,
   "metadata": {},
   "outputs": [],
   "source": []
  },
  {
   "cell_type": "markdown",
   "metadata": {},
   "source": [
    "Estimation with known decay parameter"
   ]
  },
  {
   "cell_type": "code",
   "execution_count": 55,
   "metadata": {},
   "outputs": [],
   "source": [
    "from tick.hawkes import HawkesExpKern"
   ]
  },
  {
   "cell_type": "code",
   "execution_count": 56,
   "metadata": {},
   "outputs": [],
   "source": [
    "learner_exp = HawkesExpKern(decay_exp, penalty='l1', C=10)"
   ]
  },
  {
   "cell_type": "code",
   "execution_count": 57,
   "metadata": {},
   "outputs": [
    {
     "data": {
      "text/plain": [
       "<tick.hawkes.inference.hawkes_expkern_fixeddecay.HawkesExpKern at 0x7f4606956b00>"
      ]
     },
     "execution_count": 57,
     "metadata": {},
     "output_type": "execute_result"
    }
   ],
   "source": [
    "learner_exp.fit(hawkes_exp.timestamps)"
   ]
  },
  {
   "cell_type": "code",
   "execution_count": 63,
   "metadata": {},
   "outputs": [
    {
     "data": {
      "image/png": "[encoded data removed]",
      "text/plain": [
       "<matplotlib.figure.Figure at 0x7f4604e457f0>"
      ]
     },
     "metadata": {},
     "output_type": "display_data"
    }
   ],
   "source": [
    "plot_hawkes_kernels(learner_exp, hawkes=hawkes_exp)\n",
    "plt.show()"
   ]
  },
  {
   "cell_type": "markdown",
   "metadata": {},
   "source": [
    "Alternative method"
   ]
  },
  {
   "cell_type": "code",
   "execution_count": 60,
   "metadata": {},
   "outputs": [],
   "source": [
    "from tick.hawkes import HawkesADM4"
   ]
  },
  {
   "cell_type": "code",
   "execution_count": 61,
   "metadata": {},
   "outputs": [
    {
     "data": {
      "text/plain": [
       "<tick.hawkes.inference.hawkes_adm4.HawkesADM4 at 0x7f46068781d0>"
      ]
     },
     "execution_count": 61,
     "metadata": {},
     "output_type": "execute_result"
    }
   ],
   "source": [
    "learnerADM4 = HawkesADM4(decay_exp)\n",
    "learnerADM4.fit(hawkes_exp.timestamps)"
   ]
  },
  {
   "cell_type": "code",
   "execution_count": 62,
   "metadata": {},
   "outputs": [
    {
     "data": {
      "image/png": "[encoded data removed]",
      "text/plain": [
       "<matplotlib.figure.Figure at 0x7f46067bd160>"
      ]
     },
     "metadata": {},
     "output_type": "display_data"
    }
   ],
   "source": [
    "plot_hawkes_kernels(learnerADM4, hawkes=hawkes_exp)\n",
    "plt.show()"
   ]
  },
  {
   "cell_type": "code",
   "execution_count": null,
   "metadata": {},
   "outputs": [],
   "source": []
  },
  {
   "cell_type": "markdown",
   "metadata": {},
   "source": [
    "Testing estimation on Bund data"
   ]
  },
  {
   "cell_type": "code",
   "execution_count": 36,
   "metadata": {},
   "outputs": [],
   "source": [
    "from tick.dataset import fetch_hawkes_bund_data\n",
    "from tick.hawkes import HawkesConditionalLaw\n",
    "from tick.plot import plot_hawkes_kernel_norms"
   ]
  },
  {
   "cell_type": "code",
   "execution_count": 37,
   "metadata": {
    "scrolled": true
   },
   "outputs": [
    {
     "name": "stderr",
     "output_type": "stream",
     "text": [
      "Downloading dataset from https://raw.githubusercontent.com/X-DataInitiative/tick-datasets/master/hawkes/bund/bund.npz\n"
     ]
    },
    {
     "name": "stdout",
     "output_type": "stream",
     "text": [
      "(5.88 MB) [========================================] 100%\n"
     ]
    }
   ],
   "source": [
    "timestamps_list = fetch_hawkes_bund_data()"
   ]
  },
  {
   "cell_type": "code",
   "execution_count": 45,
   "metadata": {},
   "outputs": [
    {
     "data": {
      "text/plain": [
       "20"
      ]
     },
     "execution_count": 45,
     "metadata": {},
     "output_type": "execute_result"
    }
   ],
   "source": [
    "len(timestamps_list)"
   ]
  },
  {
   "cell_type": "code",
   "execution_count": 48,
   "metadata": {},
   "outputs": [],
   "source": [
    "day1 = timestamps_list[0] # first day"
   ]
  },
  {
   "cell_type": "code",
   "execution_count": 51,
   "metadata": {},
   "outputs": [
    {
     "data": {
      "text/plain": [
       "4"
      ]
     },
     "execution_count": 51,
     "metadata": {},
     "output_type": "execute_result"
    }
   ],
   "source": [
    "len(day1)"
   ]
  },
  {
   "cell_type": "code",
   "execution_count": 53,
   "metadata": {},
   "outputs": [],
   "source": [
    "midprice_up= day1[0]"
   ]
  },
  {
   "cell_type": "code",
   "execution_count": 54,
   "metadata": {},
   "outputs": [
    {
     "data": {
      "text/plain": [
       "5295"
      ]
     },
     "execution_count": 54,
     "metadata": {},
     "output_type": "execute_result"
    }
   ],
   "source": [
    "len(midprice_up)"
   ]
  },
  {
   "cell_type": "code",
   "execution_count": null,
   "metadata": {},
   "outputs": [],
   "source": []
  },
  {
   "cell_type": "code",
   "execution_count": null,
   "metadata": {},
   "outputs": [],
   "source": []
  },
  {
   "cell_type": "code",
   "execution_count": 55,
   "metadata": {},
   "outputs": [
    {
     "data": {
      "text/plain": [
       "array([62.901048, 62.931302, 63.053994, 63.405548, 63.568121, 64.924123,\n",
       "       64.970995, 64.992722, 65.236257, 65.238754])"
      ]
     },
     "execution_count": 55,
     "metadata": {},
     "output_type": "execute_result"
    }
   ],
   "source": [
    "midprice_up[:10]"
   ]
  },
  {
   "cell_type": "code",
   "execution_count": 56,
   "metadata": {},
   "outputs": [],
   "source": [
    "midprice_down= day1[1]"
   ]
  },
  {
   "cell_type": "code",
   "execution_count": 57,
   "metadata": {},
   "outputs": [
    {
     "data": {
      "text/plain": [
       "5466"
      ]
     },
     "execution_count": 57,
     "metadata": {},
     "output_type": "execute_result"
    }
   ],
   "source": [
    "len(midprice_down)"
   ]
  },
  {
   "cell_type": "code",
   "execution_count": 58,
   "metadata": {},
   "outputs": [
    {
     "data": {
      "text/plain": [
       "array([63.050326, 63.050632, 63.053646, 63.055503, 63.407017, 63.569682,\n",
       "       64.902133, 64.906459, 64.953603, 64.993203])"
      ]
     },
     "execution_count": 58,
     "metadata": {},
     "output_type": "execute_result"
    }
   ],
   "source": [
    "midprice_down[:10]"
   ]
  },
  {
   "cell_type": "code",
   "execution_count": null,
   "metadata": {},
   "outputs": [],
   "source": []
  }
 ],
 "metadata": {
  "kernelspec": {
   "display_name": "Python 3",
   "language": "python",
   "name": "python3"
  },
  "language_info": {
   "codemirror_mode": {
    "name": "ipython",
    "version": 3
   },
   "file_extension": ".py",
   "mimetype": "text/x-python",
   "name": "python",
   "nbconvert_exporter": "python",
   "pygments_lexer": "ipython3",
   "version": "3.7.1"
  }
 },
 "nbformat": 4,
 "nbformat_minor": 2
}
